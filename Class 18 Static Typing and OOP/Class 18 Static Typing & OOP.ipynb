{
 "cells": [
  {
   "cell_type": "code",
   "execution_count": 1,
   "id": "d384bade",
   "metadata": {},
   "outputs": [],
   "source": [
    "name = \"Qasim\""
   ]
  },
  {
   "cell_type": "code",
   "execution_count": 2,
   "id": "fe88591b",
   "metadata": {},
   "outputs": [
    {
     "data": {
      "text/plain": [
       "str"
      ]
     },
     "execution_count": 2,
     "metadata": {},
     "output_type": "execute_result"
    }
   ],
   "source": [
    "type(name)"
   ]
  },
  {
   "cell_type": "code",
   "execution_count": 3,
   "id": "2c8493a1",
   "metadata": {},
   "outputs": [],
   "source": [
    "name:str = \"Qasim\""
   ]
  },
  {
   "cell_type": "code",
   "execution_count": 4,
   "id": "34477365",
   "metadata": {},
   "outputs": [],
   "source": [
    "age:str = 19"
   ]
  },
  {
   "cell_type": "code",
   "execution_count": 5,
   "id": "fc914461",
   "metadata": {},
   "outputs": [
    {
     "data": {
      "text/plain": [
       "int"
      ]
     },
     "execution_count": 5,
     "metadata": {},
     "output_type": "execute_result"
    }
   ],
   "source": [
    "type(age)"
   ]
  },
  {
   "cell_type": "code",
   "execution_count": 6,
   "id": "619e3928",
   "metadata": {},
   "outputs": [
    {
     "data": {
      "text/plain": [
       "19"
      ]
     },
     "execution_count": 6,
     "metadata": {},
     "output_type": "execute_result"
    }
   ],
   "source": [
    "age"
   ]
  },
  {
   "cell_type": "raw",
   "id": "5cd44cc4",
   "metadata": {},
   "source": [
    "def name(): --> None"
   ]
  },
  {
   "cell_type": "code",
   "execution_count": 7,
   "id": "d839693e",
   "metadata": {},
   "outputs": [],
   "source": [
    "height:float = 6.23"
   ]
  },
  {
   "cell_type": "code",
   "execution_count": 9,
   "id": "72506e6c",
   "metadata": {},
   "outputs": [],
   "source": [
    "height:bool = True"
   ]
  },
  {
   "cell_type": "code",
   "execution_count": 10,
   "id": "d3731efb",
   "metadata": {},
   "outputs": [],
   "source": [
    "from typing import Any\n",
    "\n",
    "lst: list[Any] = [1,2,3,4,5]"
   ]
  },
  {
   "cell_type": "code",
   "execution_count": 11,
   "id": "dfd0e8e5",
   "metadata": {},
   "outputs": [
    {
     "data": {
      "text/plain": [
       "[1, 2, 3, 4, 5]"
      ]
     },
     "execution_count": 11,
     "metadata": {},
     "output_type": "execute_result"
    }
   ],
   "source": [
    "lst"
   ]
  },
  {
   "cell_type": "code",
   "execution_count": 12,
   "id": "0ad02b1c",
   "metadata": {},
   "outputs": [],
   "source": [
    "lst: list[str] = [\"apple\", \"banana\", \"grapes\"]"
   ]
  },
  {
   "cell_type": "code",
   "execution_count": 13,
   "id": "7894307e",
   "metadata": {},
   "outputs": [
    {
     "data": {
      "text/plain": [
       "['apple', 'banana', 'grapes']"
      ]
     },
     "execution_count": 13,
     "metadata": {},
     "output_type": "execute_result"
    }
   ],
   "source": [
    "lst"
   ]
  },
  {
   "cell_type": "code",
   "execution_count": 14,
   "id": "1a28f264",
   "metadata": {},
   "outputs": [],
   "source": [
    "lst: list[str] = [\"apple\", \"banana\", \"grapes\"]"
   ]
  },
  {
   "cell_type": "code",
   "execution_count": 15,
   "id": "2552af3a",
   "metadata": {},
   "outputs": [],
   "source": [
    "lst: list[str, int] = [1, \"banana\", \"grapes\"]"
   ]
  },
  {
   "cell_type": "code",
   "execution_count": 16,
   "id": "8f9f634e",
   "metadata": {},
   "outputs": [],
   "source": [
    "dictionary: dict[Any] = {\"first_name\": \"Qasim\", \"last_name\": \"Iqbal\", \"age\": 23}"
   ]
  },
  {
   "cell_type": "code",
   "execution_count": 17,
   "id": "49c05665",
   "metadata": {},
   "outputs": [],
   "source": [
    "dictionary: dict[str:int] = {\"first_name\": \"Qasim\", \"last_name\": \"Iqbal\", \"age\": 23}"
   ]
  },
  {
   "cell_type": "code",
   "execution_count": 18,
   "id": "20a26d33",
   "metadata": {},
   "outputs": [],
   "source": [
    "from typing import Union"
   ]
  },
  {
   "cell_type": "code",
   "execution_count": 19,
   "id": "253c3547",
   "metadata": {},
   "outputs": [],
   "source": [
    "#customer\n",
    "key = Union[int, str]\n",
    "value = Union[str, int, bool, list, dict, tuple]\n",
    "\n",
    "dictionary: dict[key:value] = {\"first_name\": \"Qasim\", \"last_name\": \"Iqbal\", \"age\": 23}"
   ]
  },
  {
   "cell_type": "code",
   "execution_count": 20,
   "id": "444141eb",
   "metadata": {},
   "outputs": [],
   "source": [
    "def details(first_name:str):\n",
    "    print(first_name)"
   ]
  },
  {
   "cell_type": "code",
   "execution_count": 21,
   "id": "709a878b",
   "metadata": {},
   "outputs": [
    {
     "name": "stdout",
     "output_type": "stream",
     "text": [
      "Qasim\n"
     ]
    }
   ],
   "source": [
    "details(\"Qasim\")"
   ]
  },
  {
   "cell_type": "code",
   "execution_count": 22,
   "id": "087d5279",
   "metadata": {},
   "outputs": [
    {
     "name": "stdout",
     "output_type": "stream",
     "text": [
      "12\n"
     ]
    }
   ],
   "source": [
    "details(12)"
   ]
  },
  {
   "cell_type": "markdown",
   "id": "86e059bf",
   "metadata": {},
   "source": [
    "# TASK"
   ]
  },
  {
   "cell_type": "raw",
   "id": "0b5ed1b1",
   "metadata": {},
   "source": [
    "TASK:\n",
    "\n",
    "1- create a class with name Parents\n",
    "2- class should have constructor & its parameter should be name, father's name, mother's name & no of children\n",
    "3- create two methods with name speaking, listening, mother tongue\n",
    "4- create a method  that overwrite the value of no of siblings"
   ]
  },
  {
   "cell_type": "code",
   "execution_count": 59,
   "id": "6b039f87",
   "metadata": {},
   "outputs": [],
   "source": [
    "class Parents():\n",
    "    def __init__(self, name, fathers_name, mothers_name, no_of_children):\n",
    "        self.name = name\n",
    "        self.fathers_name = fathers_name\n",
    "        self.mothers_name = mothers_name\n",
    "        self.no_of_children = no_of_children\n",
    "\n",
    "    def speaking(self):\n",
    "        print(name + \" is \" + \"Speaking\")\n",
    "    \n",
    "    def listening(self):\n",
    "        print(name + \" is \" + \"Listening\")\n",
    "    \n",
    "    def mother_tongue(self, language):\n",
    "        print(name + \" Mother Tongue is \" + language)\n",
    "    \n",
    "    def change_no_of_children(self, new_no_of_children):\n",
    "        self.no_of_children = new_no_of_children"
   ]
  },
  {
   "cell_type": "code",
   "execution_count": 60,
   "id": "35baefef",
   "metadata": {},
   "outputs": [],
   "source": [
    "my_details = Parents(\"Qasim\", \"Iqbal\", \"Mother\", 1)"
   ]
  },
  {
   "cell_type": "code",
   "execution_count": 49,
   "id": "b876969e",
   "metadata": {},
   "outputs": [
    {
     "data": {
      "text/plain": [
       "'Qasim'"
      ]
     },
     "execution_count": 49,
     "metadata": {},
     "output_type": "execute_result"
    }
   ],
   "source": [
    "my_details.name"
   ]
  },
  {
   "cell_type": "code",
   "execution_count": 50,
   "id": "08b6f2e8",
   "metadata": {},
   "outputs": [
    {
     "data": {
      "text/plain": [
       "'Iqbal'"
      ]
     },
     "execution_count": 50,
     "metadata": {},
     "output_type": "execute_result"
    }
   ],
   "source": [
    "my_details.fathers_name"
   ]
  },
  {
   "cell_type": "code",
   "execution_count": 51,
   "id": "2becfb6f",
   "metadata": {},
   "outputs": [
    {
     "data": {
      "text/plain": [
       "'Mother'"
      ]
     },
     "execution_count": 51,
     "metadata": {},
     "output_type": "execute_result"
    }
   ],
   "source": [
    "my_details.mothers_name"
   ]
  },
  {
   "cell_type": "code",
   "execution_count": 52,
   "id": "b4ba61b1",
   "metadata": {},
   "outputs": [
    {
     "data": {
      "text/plain": [
       "1"
      ]
     },
     "execution_count": 52,
     "metadata": {},
     "output_type": "execute_result"
    }
   ],
   "source": [
    "my_details.no_of_children"
   ]
  },
  {
   "cell_type": "code",
   "execution_count": 61,
   "id": "4f4910fb",
   "metadata": {},
   "outputs": [
    {
     "name": "stdout",
     "output_type": "stream",
     "text": [
      "Qasim is Speaking\n"
     ]
    }
   ],
   "source": [
    "my_details.speaking()"
   ]
  },
  {
   "cell_type": "code",
   "execution_count": 54,
   "id": "13c2f592",
   "metadata": {},
   "outputs": [
    {
     "name": "stdout",
     "output_type": "stream",
     "text": [
      "Qasim is Listening\n"
     ]
    }
   ],
   "source": [
    "my_details.listening()"
   ]
  },
  {
   "cell_type": "code",
   "execution_count": 58,
   "id": "cda4380b",
   "metadata": {},
   "outputs": [
    {
     "name": "stdout",
     "output_type": "stream",
     "text": [
      "Qasim Mother Tongue is Urdu\n"
     ]
    }
   ],
   "source": [
    "my_details.mother_tongue(\"Urdu\")"
   ]
  },
  {
   "cell_type": "code",
   "execution_count": 55,
   "id": "f639ca22",
   "metadata": {},
   "outputs": [],
   "source": [
    "my_details.change_no_of_children(2)"
   ]
  },
  {
   "cell_type": "code",
   "execution_count": 57,
   "id": "88f802ed",
   "metadata": {},
   "outputs": [
    {
     "data": {
      "text/plain": [
       "2"
      ]
     },
     "execution_count": 57,
     "metadata": {},
     "output_type": "execute_result"
    }
   ],
   "source": [
    "my_details.no_of_children"
   ]
  },
  {
   "cell_type": "markdown",
   "id": "503ea1f9",
   "metadata": {},
   "source": [
    "# Class Variables"
   ]
  },
  {
   "cell_type": "code",
   "execution_count": 72,
   "id": "19ceadc9",
   "metadata": {},
   "outputs": [],
   "source": [
    "class Parents():\n",
    "    object_increment = 0\n",
    "    result = \"A+\"\n",
    "    \n",
    "    def __init__(self, name, fathers_name, mothers_name, no_of_children):\n",
    "        self.name = name\n",
    "        self.fathers_name = fathers_name\n",
    "        self.mothers_name = mothers_name\n",
    "        self.no_of_children = no_of_children\n",
    "        self.mother_tongue = \"HINDKO\"\n",
    "        Parents.object_increment += 1\n",
    "\n",
    "    def speaking(self):\n",
    "        print(f\"{self.name} is Speaking\")\n",
    "    \n",
    "    def listening(self):\n",
    "        print(f\"{self.name} is Listening\")\n",
    "    \n",
    "    def override_no_of_children(self, num):\n",
    "        self.no_of_children = num"
   ]
  },
  {
   "cell_type": "code",
   "execution_count": 73,
   "id": "fec2d205",
   "metadata": {},
   "outputs": [],
   "source": [
    "qasim_parents = Parents(\"Qasim\", \"Hassan\", \"Bakht or Nissa\", 3)"
   ]
  },
  {
   "cell_type": "code",
   "execution_count": 74,
   "id": "db2cef30",
   "metadata": {},
   "outputs": [
    {
     "name": "stdout",
     "output_type": "stream",
     "text": [
      "1\n",
      "A+\n",
      "Qasim\n",
      "HINDKO\n"
     ]
    }
   ],
   "source": [
    "print(qasim_parents.object_increment)\n",
    "print(qasim_parents.result)\n",
    "print(qasim_parents.name)\n",
    "print(qasim_parents.mother_tongue)"
   ]
  },
  {
   "cell_type": "code",
   "execution_count": 75,
   "id": "40b09f16",
   "metadata": {},
   "outputs": [],
   "source": [
    "mehmood_parents = Parents(\"Mehmood\", \"Ali\", \"Laila\", 1)"
   ]
  },
  {
   "cell_type": "code",
   "execution_count": 76,
   "id": "b12ea02d",
   "metadata": {},
   "outputs": [
    {
     "name": "stdout",
     "output_type": "stream",
     "text": [
      "2\n",
      "A+\n",
      "Mehmood\n",
      "HINDKO\n"
     ]
    }
   ],
   "source": [
    "print(mehmood_parents.object_increment)\n",
    "print(mehmood_parents.result)\n",
    "print(mehmood_parents.name)\n",
    "print(mehmood_parents.mother_tongue)"
   ]
  },
  {
   "cell_type": "code",
   "execution_count": null,
   "id": "b7a9747f",
   "metadata": {},
   "outputs": [],
   "source": []
  }
 ],
 "metadata": {
  "kernelspec": {
   "display_name": "Python 3 (ipykernel)",
   "language": "python",
   "name": "python3"
  },
  "language_info": {
   "codemirror_mode": {
    "name": "ipython",
    "version": 3
   },
   "file_extension": ".py",
   "mimetype": "text/x-python",
   "name": "python",
   "nbconvert_exporter": "python",
   "pygments_lexer": "ipython3",
   "version": "3.11.5"
  }
 },
 "nbformat": 4,
 "nbformat_minor": 5
}
