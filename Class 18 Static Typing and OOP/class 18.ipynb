{
 "cells": [
  {
   "cell_type": "code",
   "execution_count": 1,
   "id": "ff208594",
   "metadata": {},
   "outputs": [],
   "source": [
    "name = 'muzammil'"
   ]
  },
  {
   "cell_type": "code",
   "execution_count": 2,
   "id": "acd0d796",
   "metadata": {},
   "outputs": [
    {
     "data": {
      "text/plain": [
       "str"
      ]
     },
     "execution_count": 2,
     "metadata": {},
     "output_type": "execute_result"
    }
   ],
   "source": [
    "type(name)"
   ]
  },
  {
   "cell_type": "code",
   "execution_count": 3,
   "id": "7e633a98",
   "metadata": {},
   "outputs": [],
   "source": [
    "name:str = 'muzammil'"
   ]
  },
  {
   "cell_type": "code",
   "execution_count": 4,
   "id": "846dac2a",
   "metadata": {},
   "outputs": [],
   "source": [
    "age:str = 19"
   ]
  },
  {
   "cell_type": "code",
   "execution_count": 5,
   "id": "63e5369e",
   "metadata": {},
   "outputs": [
    {
     "data": {
      "text/plain": [
       "int"
      ]
     },
     "execution_count": 5,
     "metadata": {},
     "output_type": "execute_result"
    }
   ],
   "source": [
    "type(age)# system run time pr overlaped krdeta ha func me overlaped nahi krega"
   ]
  },
  {
   "cell_type": "code",
   "execution_count": 6,
   "id": "3bf4705c",
   "metadata": {},
   "outputs": [],
   "source": [
    "height:float = 6.34"
   ]
  },
  {
   "cell_type": "code",
   "execution_count": 7,
   "id": "79c1b35d",
   "metadata": {},
   "outputs": [],
   "source": [
    "height:bool = True"
   ]
  },
  {
   "cell_type": "code",
   "execution_count": 9,
   "id": "1f30e534",
   "metadata": {},
   "outputs": [],
   "source": [
    "from typing import Any\n",
    "\n",
    "lst:list[Any] = [1,2,3,4,5]"
   ]
  },
  {
   "cell_type": "code",
   "execution_count": 10,
   "id": "8db9ec48",
   "metadata": {},
   "outputs": [
    {
     "data": {
      "text/plain": [
       "[1, 2, 3, 4, 5]"
      ]
     },
     "execution_count": 10,
     "metadata": {},
     "output_type": "execute_result"
    }
   ],
   "source": [
    "lst"
   ]
  },
  {
   "cell_type": "code",
   "execution_count": 11,
   "id": "063842c8",
   "metadata": {},
   "outputs": [],
   "source": [
    "lst:list[str] = ['apple', 'banana', 'mango']"
   ]
  },
  {
   "cell_type": "code",
   "execution_count": 12,
   "id": "076c03ab",
   "metadata": {},
   "outputs": [
    {
     "data": {
      "text/plain": [
       "['apple', 'banana', 'mango']"
      ]
     },
     "execution_count": 12,
     "metadata": {},
     "output_type": "execute_result"
    }
   ],
   "source": [
    "lst"
   ]
  },
  {
   "cell_type": "code",
   "execution_count": 13,
   "id": "dcc793a3",
   "metadata": {},
   "outputs": [],
   "source": [
    "lst:list[str, int] = [1, 'banana', 'mango']"
   ]
  },
  {
   "cell_type": "code",
   "execution_count": 14,
   "id": "209146cc",
   "metadata": {},
   "outputs": [],
   "source": [
    "dictionary: dict[Any] = {'first_name': 'Muhammad', 'last_name': 'muzammil', 'age':19}"
   ]
  },
  {
   "cell_type": "code",
   "execution_count": 15,
   "id": "2fe51d9c",
   "metadata": {},
   "outputs": [],
   "source": [
    "dictionary: dict[str:int] = {'first_name': 'Muhammad', 'last_name': 'muzammil', 'age':19}"
   ]
  },
  {
   "cell_type": "code",
   "execution_count": 16,
   "id": "364158f5",
   "metadata": {},
   "outputs": [],
   "source": [
    "from typing import Union"
   ]
  },
  {
   "cell_type": "code",
   "execution_count": 18,
   "id": "30e3b2e7",
   "metadata": {},
   "outputs": [],
   "source": [
    "#custome\n",
    "key = [int, str]\n",
    "value = [str, int, bool, list, dict, tuple]\n",
    "\n",
    "dictionary: dict[key:value] = {'first_name': 'Muhammad', 'last_name': 'muzammil', 'age':19}"
   ]
  },
  {
   "cell_type": "code",
   "execution_count": 24,
   "id": "a498c381",
   "metadata": {},
   "outputs": [],
   "source": [
    "def details(first_name : str, age: str, age1: str):\n",
    "    total_age = age +age1\n",
    "    return f\"{first_name} have {total_age}\""
   ]
  },
  {
   "cell_type": "code",
   "execution_count": 25,
   "id": "4fa23a81",
   "metadata": {},
   "outputs": [
    {
     "data": {
      "text/plain": [
       "'muzammil have 25'"
      ]
     },
     "execution_count": 25,
     "metadata": {},
     "output_type": "execute_result"
    }
   ],
   "source": [
    "details('muzammil',12,13)"
   ]
  },
  {
   "cell_type": "code",
   "execution_count": null,
   "id": "1f4d5846",
   "metadata": {},
   "outputs": [],
   "source": [
    "TASK:\n",
    "    \n",
    "1- create a class with name Parents\n",
    "2- class should have constuctor & its parameters should be name,\n",
    "    father's name, mother's name & no of child,mother_tongue\n",
    "4- create a method that overrise the value of no of siblings"
   ]
  },
  {
   "cell_type": "code",
   "execution_count": 43,
   "id": "d5daeabf",
   "metadata": {},
   "outputs": [],
   "source": [
    "class parents():\n",
    "    objects_increment = 0\n",
    "    result = 'A+'\n",
    "    \n",
    "    def __init__(self,name, Father_name, mother_name, no_of_childrens):#called constructor\n",
    "        self.name = name\n",
    "        self.father_name = Father_name\n",
    "        self.mother_name = mother_name\n",
    "        self.no_of_childrens = no_of_childrens\n",
    "        self.mother_tongue = 'urdu'\n",
    "        parents.objects_increment += 1\n",
    "        \n",
    "    def speaking(self):\n",
    "        print(f'{self.name} is speaking')\n",
    "        \n",
    "    def name_listening(self):\n",
    "        print(f'{self.name} is listening')\n",
    "        \n",
    "    def mother_tongue(self, language):\n",
    "        print(f\"{self.name}'s mother tongue is {language}.\")\n",
    "        \n",
    "    def update_no_of_childrens(self, num):\n",
    "        self.no_of_childrens = num"
   ]
  },
  {
   "cell_type": "code",
   "execution_count": 44,
   "id": "f300aae9",
   "metadata": {},
   "outputs": [],
   "source": [
    "muzammil_parents = parents(\"Muzammil\",\"sohail\",\"shazia\",3)"
   ]
  },
  {
   "cell_type": "code",
   "execution_count": 47,
   "id": "3bc4c4c3",
   "metadata": {},
   "outputs": [
    {
     "name": "stdout",
     "output_type": "stream",
     "text": [
      "1\n",
      "A+\n",
      "Muzammil\n",
      "urdu\n"
     ]
    }
   ],
   "source": [
    "print(parents.objects_increment) # object increments\n",
    "print(muzammil_parents.result)\n",
    "print(muzammil_parents.name)# all other parents will be same\n",
    "print(muzammil_parents.mother_tongue)"
   ]
  },
  {
   "cell_type": "code",
   "execution_count": null,
   "id": "2a358acc",
   "metadata": {},
   "outputs": [],
   "source": []
  }
 ],
 "metadata": {
  "kernelspec": {
   "display_name": "Python 3 (ipykernel)",
   "language": "python",
   "name": "python3"
  },
  "language_info": {
   "codemirror_mode": {
    "name": "ipython",
    "version": 3
   },
   "file_extension": ".py",
   "mimetype": "text/x-python",
   "name": "python",
   "nbconvert_exporter": "python",
   "pygments_lexer": "ipython3",
   "version": "3.11.5"
  }
 },
 "nbformat": 4,
 "nbformat_minor": 5
}
