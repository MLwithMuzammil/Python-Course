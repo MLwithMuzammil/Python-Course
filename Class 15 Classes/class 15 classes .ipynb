{
 "cells": [
  {
   "cell_type": "markdown",
   "id": "7cbb340d",
   "metadata": {},
   "source": [
    "Background"
   ]
  },
  {
   "cell_type": "code",
   "execution_count": 1,
   "id": "8d6656ff",
   "metadata": {},
   "outputs": [
    {
     "data": {
      "text/plain": [
       "int"
      ]
     },
     "execution_count": 1,
     "metadata": {},
     "output_type": "execute_result"
    }
   ],
   "source": [
    "type(12)"
   ]
  },
  {
   "cell_type": "code",
   "execution_count": 3,
   "id": "05fca19b",
   "metadata": {},
   "outputs": [],
   "source": [
    "list1 = [1,4,3,3,2] # list1--> object"
   ]
  },
  {
   "cell_type": "code",
   "execution_count": 4,
   "id": "e8acdfc2",
   "metadata": {
    "collapsed": true
   },
   "outputs": [
    {
     "data": {
      "text/plain": [
       "['__add__',\n",
       " '__class__',\n",
       " '__class_getitem__',\n",
       " '__contains__',\n",
       " '__delattr__',\n",
       " '__delitem__',\n",
       " '__dir__',\n",
       " '__doc__',\n",
       " '__eq__',\n",
       " '__format__',\n",
       " '__ge__',\n",
       " '__getattribute__',\n",
       " '__getitem__',\n",
       " '__getstate__',\n",
       " '__gt__',\n",
       " '__hash__',\n",
       " '__iadd__',\n",
       " '__imul__',\n",
       " '__init__',\n",
       " '__init_subclass__',\n",
       " '__iter__',\n",
       " '__le__',\n",
       " '__len__',\n",
       " '__lt__',\n",
       " '__mul__',\n",
       " '__ne__',\n",
       " '__new__',\n",
       " '__reduce__',\n",
       " '__reduce_ex__',\n",
       " '__repr__',\n",
       " '__reversed__',\n",
       " '__rmul__',\n",
       " '__setattr__',\n",
       " '__setitem__',\n",
       " '__sizeof__',\n",
       " '__str__',\n",
       " '__subclasshook__',\n",
       " 'append',\n",
       " 'clear',\n",
       " 'copy',\n",
       " 'count',\n",
       " 'extend',\n",
       " 'index',\n",
       " 'insert',\n",
       " 'pop',\n",
       " 'remove',\n",
       " 'reverse',\n",
       " 'sort']"
      ]
     },
     "execution_count": 4,
     "metadata": {},
     "output_type": "execute_result"
    }
   ],
   "source": [
    "dir(list1)"
   ]
  },
  {
   "cell_type": "code",
   "execution_count": null,
   "id": "8109d300",
   "metadata": {},
   "outputs": [],
   "source": [
    "#object = attribute(characteristics) + Methods(Behavior)\n",
    "#class = attribute(characteristics) + Methods(Behavior) --> object"
   ]
  },
  {
   "cell_type": "markdown",
   "id": "f067c191",
   "metadata": {},
   "source": [
    "classes"
   ]
  },
  {
   "cell_type": "code",
   "execution_count": 5,
   "id": "2cec326b",
   "metadata": {},
   "outputs": [],
   "source": [
    "class patient():\n",
    "    pass"
   ]
  },
  {
   "cell_type": "markdown",
   "id": "73511bad",
   "metadata": {},
   "source": [
    "class: starting to build the structure"
   ]
  },
  {
   "cell_type": "code",
   "execution_count": 8,
   "id": "180d0f11",
   "metadata": {},
   "outputs": [],
   "source": [
    "class pateint():\n",
    "    def _int_(self, first_name):\n",
    "        self.first_name = first_name"
   ]
  },
  {
   "cell_type": "markdown",
   "id": "fc298bab",
   "metadata": {},
   "source": [
    "classes: A bit of house keepig"
   ]
  },
  {
   "cell_type": "code",
   "execution_count": 6,
   "id": "34022e75",
   "metadata": {},
   "outputs": [],
   "source": [
    "class pateint():\n",
    "    def __init__(self, first_name, last_name, age):\n",
    "        self.first_name = first_name\n",
    "        self.last_name = last_name\n",
    "        self.age = age"
   ]
  },
  {
   "cell_type": "markdown",
   "id": "989fe046",
   "metadata": {},
   "source": [
    "classes: creating an instance"
   ]
  },
  {
   "cell_type": "code",
   "execution_count": 7,
   "id": "893e87ce",
   "metadata": {},
   "outputs": [],
   "source": [
    "p_muhammad = pateint('Muhammad', 'Muzammil', 19)"
   ]
  },
  {
   "cell_type": "code",
   "execution_count": 8,
   "id": "25554f1d",
   "metadata": {},
   "outputs": [
    {
     "data": {
      "text/plain": [
       "19"
      ]
     },
     "execution_count": 8,
     "metadata": {},
     "output_type": "execute_result"
    }
   ],
   "source": [
    "p_muhammad.age"
   ]
  },
  {
   "cell_type": "markdown",
   "id": "fd8ebb7d",
   "metadata": {},
   "source": [
    "task"
   ]
  },
  {
   "cell_type": "code",
   "execution_count": 40,
   "id": "cc05b1d8",
   "metadata": {},
   "outputs": [],
   "source": [
    "class cars():\n",
    "    def __init__(self, name, cc, colour):\n",
    "        self.name = name\n",
    "        self.cc = cc\n",
    "        self.colour = colour\n",
    "    def change_name(self, update_name):\n",
    "        self.name = update_name\n",
    "        "
   ]
  },
  {
   "cell_type": "code",
   "execution_count": 29,
   "id": "2519fe82",
   "metadata": {},
   "outputs": [],
   "source": [
    "p_ordi = cars('ordi', 3000, 'Golden')"
   ]
  },
  {
   "cell_type": "code",
   "execution_count": 30,
   "id": "80600188",
   "metadata": {},
   "outputs": [
    {
     "data": {
      "text/plain": [
       "3000"
      ]
     },
     "execution_count": 30,
     "metadata": {},
     "output_type": "execute_result"
    }
   ],
   "source": [
    "p_ordi.cc"
   ]
  },
  {
   "cell_type": "code",
   "execution_count": 31,
   "id": "02cca0d6",
   "metadata": {},
   "outputs": [
    {
     "data": {
      "text/plain": [
       "'ordi'"
      ]
     },
     "execution_count": 31,
     "metadata": {},
     "output_type": "execute_result"
    }
   ],
   "source": [
    "p_ordi.name"
   ]
  },
  {
   "cell_type": "code",
   "execution_count": 43,
   "id": "243467a9",
   "metadata": {},
   "outputs": [],
   "source": [
    "p_ordi.change_name('lamborginni')"
   ]
  },
  {
   "cell_type": "code",
   "execution_count": 44,
   "id": "bd90c873",
   "metadata": {},
   "outputs": [
    {
     "data": {
      "text/plain": [
       "'lamborginni'"
      ]
     },
     "execution_count": 44,
     "metadata": {},
     "output_type": "execute_result"
    }
   ],
   "source": [
    "p_ordi.name"
   ]
  },
  {
   "cell_type": "code",
   "execution_count": null,
   "id": "88151f55",
   "metadata": {},
   "outputs": [],
   "source": []
  }
 ],
 "metadata": {
  "kernelspec": {
   "display_name": "Python 3 (ipykernel)",
   "language": "python",
   "name": "python3"
  },
  "language_info": {
   "codemirror_mode": {
    "name": "ipython",
    "version": 3
   },
   "file_extension": ".py",
   "mimetype": "text/x-python",
   "name": "python",
   "nbconvert_exporter": "python",
   "pygments_lexer": "ipython3",
   "version": "3.11.5"
  }
 },
 "nbformat": 4,
 "nbformat_minor": 5
}
