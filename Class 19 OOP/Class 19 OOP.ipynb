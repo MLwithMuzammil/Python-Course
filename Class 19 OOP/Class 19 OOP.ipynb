{
 "cells": [
  {
   "cell_type": "code",
   "execution_count": 2,
   "id": "b83832b8",
   "metadata": {},
   "outputs": [],
   "source": [
    "class Teacher():\n",
    "    \n",
    "    teacher_id = 0 # variable\n",
    "    help_contact = \"0399-7777777\" # static varaible\n",
    "    \n",
    "    #constructor\n",
    "    def __init__(self, teacher_name):\n",
    "        self.teacher_name = teacher_name\n",
    "        self.institute = \"SMIT\"\n",
    "        Teacher.teacher_id += 1 #increment in class variable\n",
    "    \n",
    "    @staticmethod    \n",
    "    def attendence_percentage(present, total):\n",
    "        return (present*100)/total\n",
    "    #method 1\n",
    "    def teaching(self, subject):\n",
    "        print(f'{self.teacher_name} is teaching {subject}')\n",
    "    \n",
    "    \n",
    "    #method2\n",
    "    def skill(self, tech_skill):\n",
    "        print(f\"{self.teacher_name} skill is {tech_skill}\")\n",
    "    \n",
    "    "
   ]
  },
  {
   "cell_type": "code",
   "execution_count": 9,
   "id": "03875f02",
   "metadata": {},
   "outputs": [
    {
     "name": "stdout",
     "output_type": "stream",
     "text": [
      "0\n",
      "Static Variable or class variable: 0399-7777777\n",
      "precentage of present students is 90.0\n"
     ]
    }
   ],
   "source": [
    "class_percentage = Teacher.attendence_percentage(45,50)\n",
    "# class varibale\n",
    "print(Teacher.teacher_id)\n",
    "print(f\"Static Variable or class variable: {Teacher.help_contact}\")\n",
    "print(f\"precentage of present students is {class_percentage}\")"
   ]
  },
  {
   "cell_type": "code",
   "execution_count": 10,
   "id": "f5f53b98",
   "metadata": {},
   "outputs": [],
   "source": [
    "obje1 = Teacher('Muzammil') # object initialization/ instantiation"
   ]
  },
  {
   "cell_type": "code",
   "execution_count": 6,
   "id": "f6760348",
   "metadata": {},
   "outputs": [],
   "source": [
    "class_percentage = Teacher.attendence_percentage(45,50)"
   ]
  },
  {
   "cell_type": "code",
   "execution_count": 7,
   "id": "de3b801f",
   "metadata": {},
   "outputs": [
    {
     "name": "stdout",
     "output_type": "stream",
     "text": [
      "percentage of class is 90.0. \n"
     ]
    }
   ],
   "source": [
    "print(f\"percentage of class is {class_percentage}. \")"
   ]
  },
  {
   "cell_type": "code",
   "execution_count": 11,
   "id": "ab06e9e1",
   "metadata": {},
   "outputs": [
    {
     "data": {
      "text/plain": [
       "['__class__',\n",
       " '__delattr__',\n",
       " '__dict__',\n",
       " '__dir__',\n",
       " '__doc__',\n",
       " '__eq__',\n",
       " '__format__',\n",
       " '__ge__',\n",
       " '__getattribute__',\n",
       " '__getstate__',\n",
       " '__gt__',\n",
       " '__hash__',\n",
       " '__init__',\n",
       " '__init_subclass__',\n",
       " '__le__',\n",
       " '__lt__',\n",
       " '__module__',\n",
       " '__ne__',\n",
       " '__new__',\n",
       " '__reduce__',\n",
       " '__reduce_ex__',\n",
       " '__repr__',\n",
       " '__setattr__',\n",
       " '__sizeof__',\n",
       " '__str__',\n",
       " '__subclasshook__',\n",
       " '__weakref__',\n",
       " 'attendence_percentage',\n",
       " 'help_contact',\n",
       " 'institute',\n",
       " 'skill',\n",
       " 'teacher_id',\n",
       " 'teacher_name',\n",
       " 'teaching']"
      ]
     },
     "execution_count": 11,
     "metadata": {},
     "output_type": "execute_result"
    }
   ],
   "source": [
    "dir(obje1)"
   ]
  },
  {
   "cell_type": "code",
   "execution_count": 13,
   "id": "035bc79d",
   "metadata": {},
   "outputs": [
    {
     "data": {
      "text/plain": [
       "['attendence_percentage',\n",
       " 'help_contact',\n",
       " 'institute',\n",
       " 'skill',\n",
       " 'teacher_id',\n",
       " 'teacher_name',\n",
       " 'teaching']"
      ]
     },
     "execution_count": 13,
     "metadata": {},
     "output_type": "execute_result"
    }
   ],
   "source": [
    "[i for i in dir(obje1) if '__' not in i]"
   ]
  },
  {
   "cell_type": "code",
   "execution_count": 15,
   "id": "9366efde",
   "metadata": {},
   "outputs": [
    {
     "name": "stdout",
     "output_type": "stream",
     "text": [
      "1\n",
      "Muzammil\n",
      "SMIT\n",
      "Muzammil is teaching Python Programming\n",
      "Muzammil skill is Data Engineering\n"
     ]
    }
   ],
   "source": [
    "# constructor variables\n",
    "print(obje1.teacher_id)\n",
    "print(obje1.teacher_name)\n",
    "print(obje1.institute)\n",
    "\n",
    "# Methods Calling\n",
    "obje1.teaching(\"Python Programming\")\n",
    "obje1.skill(\"Data Engineering\")"
   ]
  },
  {
   "cell_type": "code",
   "execution_count": 16,
   "id": "763a1b96",
   "metadata": {},
   "outputs": [],
   "source": [
    "obje2 = Teacher('Mudassir')"
   ]
  },
  {
   "cell_type": "code",
   "execution_count": 17,
   "id": "f71b63df",
   "metadata": {},
   "outputs": [
    {
     "name": "stdout",
     "output_type": "stream",
     "text": [
      "2\n",
      "2\n"
     ]
    }
   ],
   "source": [
    "# class varibale\n",
    "print(Teacher.teacher_id)\n",
    "print(obje2.teacher_id)"
   ]
  },
  {
   "cell_type": "markdown",
   "id": "0d218618",
   "metadata": {},
   "source": [
    "OOPS(object oriented programmig)\n",
    "\n",
    "- inheritance\n",
    "- Abstraction(blue print of calss)\n",
    "- Polymorphism\n",
    "- Encapsulation"
   ]
  },
  {
   "cell_type": "code",
   "execution_count": 1,
   "id": "0b6b28ed",
   "metadata": {},
   "outputs": [],
   "source": [
    "class Parents():\n",
    "    \n",
    "    def __init__(self):\n",
    "        self.eye_colour = \"Brown\"\n",
    "        self.hair_colour = \"Black\"\n",
    "        \n",
    "    def speak(self, words):\n",
    "        print(f'Parent method speak{words}')\n",
    "        \n",
    "    def watching(self, object_name):\n",
    "        print(f'you are looking{object_name}!')\n",
    "        \n",
    "class Child(Parents):\n",
    "    \n",
    "    def drive(self, vehicle):\n",
    "        print(f'child is driving {vehicle}')\n",
    "    "
   ]
  },
  {
   "cell_type": "code",
   "execution_count": 2,
   "id": "4fc66a90",
   "metadata": {},
   "outputs": [],
   "source": [
    "parent = Parents()"
   ]
  },
  {
   "cell_type": "code",
   "execution_count": 3,
   "id": "14ff8512",
   "metadata": {},
   "outputs": [
    {
     "name": "stdout",
     "output_type": "stream",
     "text": [
      "Brown\n",
      "Black\n",
      "Parent method speakGot to SMIT\n",
      "you are lookingre:invernt!\n"
     ]
    }
   ],
   "source": [
    "# parent class\n",
    "print(parent.eye_colour)\n",
    "print(parent.hair_colour)\n",
    "parent.speak(\"Got to SMIT\")\n",
    "parent.watching('re:invernt')"
   ]
  },
  {
   "cell_type": "code",
   "execution_count": 4,
   "id": "27b856da",
   "metadata": {},
   "outputs": [],
   "source": [
    "child = Child()"
   ]
  },
  {
   "cell_type": "code",
   "execution_count": 6,
   "id": "95a4f810",
   "metadata": {},
   "outputs": [
    {
     "name": "stdout",
     "output_type": "stream",
     "text": [
      "Brown\n",
      "Black\n",
      "Parent method speakGot to SMIT\n",
      "you are lookingre:invernt!\n",
      "child is driving Mehran\n"
     ]
    }
   ],
   "source": [
    "# parent class\n",
    "print(child.eye_colour)\n",
    "print(child.hair_colour)\n",
    "child.speak(\"Got to SMIT\")\n",
    "child.watching('re:invernt')\n",
    "child.drive(\"Mehran\")"
   ]
  },
  {
   "cell_type": "markdown",
   "id": "bad8d674",
   "metadata": {},
   "source": [
    "Example: 2"
   ]
  },
  {
   "cell_type": "code",
   "execution_count": 15,
   "id": "0730937f",
   "metadata": {},
   "outputs": [],
   "source": [
    "class Employee():\n",
    "    \n",
    "    def __init__(self, name, organization):\n",
    "        self.name = name\n",
    "        self.organization = organization\n",
    "        \n",
    "    def print_details(self):\n",
    "        print(f\"Employee name is {self.name} & organization is {self.organization}\")\n",
    "        \n",
    "class Desginer(Employee):\n",
    "    \n",
    "    def __init__(self, name, organization, title):\n",
    "        super().__init__(name, organization)\n",
    "        self.title = title\n",
    "\n",
    "class Developer(Employee):\n",
    "     def __init__(self, name, organization, title):\n",
    "        super().__init__(name, organization)\n",
    "        self.title = title\n",
    "        self.programming_skills = [\"python\"]\n"
   ]
  },
  {
   "cell_type": "code",
   "execution_count": 16,
   "id": "fda696fd",
   "metadata": {},
   "outputs": [],
   "source": [
    "designer = Desginer('Muzammil', 'SMIT', 'Artist')"
   ]
  },
  {
   "cell_type": "code",
   "execution_count": 18,
   "id": "ec129f63",
   "metadata": {},
   "outputs": [
    {
     "name": "stdout",
     "output_type": "stream",
     "text": [
      "Muzammil\n",
      "SMIT\n",
      "Artist\n",
      "Employee name is Muzammil & organization is SMIT\n"
     ]
    }
   ],
   "source": [
    "print(designer.name)\n",
    "print(designer.organization)\n",
    "print(designer.title)\n",
    "designer.print_details()"
   ]
  },
  {
   "cell_type": "markdown",
   "id": "9975bf09",
   "metadata": {},
   "source": [
    "Task 1\n",
    "- create a saylani Bahadurabad class with atleast 1 method & 3 attributes i:e., web developmnet class\n",
    "- create a saylani Gulshan class with atleast 1 method & 3 attributes i:e., Python Programming\n",
    "- create a Saylani Bloach class that inherit Bhadurabad & Gulshan class but should additional capacify feature for Females"
   ]
  },
  {
   "cell_type": "code",
   "execution_count": 12,
   "id": "562e5b89",
   "metadata": {},
   "outputs": [],
   "source": [
    "class Saylani_bahadurabad:\n",
    "    \n",
    "    def __init__(self, timing, duration):\n",
    "        self.batch_name = 'web development'\n",
    "        self.timing = timing\n",
    "        self.duration = duration\n",
    "        \n",
    "    def saylani_bahadurabad_details(self):\n",
    "        print(f'Batch_name: {self.batch_name}')\n",
    "        print(f'Timing: {self.timing}')\n",
    "        print(f'Duration: {self.duration}')\n",
    "        \n",
    "class Saylani_gulshan:\n",
    "    \n",
    "    def __init__(self, timing, duration):\n",
    "        self.batch_name = 'python programming'\n",
    "        self.timing = timing\n",
    "        self.duration = duration\n",
    "        \n",
    "    def saylani_gulshan_details(self):\n",
    "        print(f'Batch_name: {self.batch_name}')\n",
    "        print(f'Timing: {self.timing}')\n",
    "        print(f'Duration: {self.duration}')\n",
    "        \n",
    "class Saylani_baloch(Saylani_bahadurabad, Saylani_gulshan):\n",
    "    \n",
    "    def __init__(self, batch_name, timing, duration, capacity_of_females):\n",
    "        Saylani_bahadurabad.__init__(self,timing ,duration)\n",
    "        Saylani_gulshan.__init__(self,timing , duration)\n",
    "        self.capacity_of_females = capacity_of_females\n",
    "        \n",
    "    def saylani_baloch_details(self):\n",
    "        print(f'Batch_name: {self.batch_name}')\n",
    "        print(f'Timing: {self.timing}')\n",
    "        print(f'Duration: {self.duration}')\n",
    "        print(f'Capacity of females: {self.capacity_of_females}')\n",
    "    \n",
    "    "
   ]
  },
  {
   "cell_type": "code",
   "execution_count": 13,
   "id": "f61c82b6",
   "metadata": {},
   "outputs": [],
   "source": [
    "bahadurabad_class = Saylani_bahadurabad(\"Evening\", \"3 months\")\n"
   ]
  },
  {
   "cell_type": "code",
   "execution_count": 14,
   "id": "170f3ed1",
   "metadata": {},
   "outputs": [
    {
     "name": "stdout",
     "output_type": "stream",
     "text": [
      "Batch_name: web development\n",
      "Timing: Evening\n",
      "Duration: 3 months\n"
     ]
    }
   ],
   "source": [
    "bahadurabad_class.saylani_bahadurabad_details()"
   ]
  },
  {
   "cell_type": "code",
   "execution_count": 15,
   "id": "8dfba50d",
   "metadata": {},
   "outputs": [],
   "source": [
    "gulshan_class = Saylani_gulshan(\"Morning\", \"6 months\")"
   ]
  },
  {
   "cell_type": "code",
   "execution_count": 16,
   "id": "d1c3c2df",
   "metadata": {},
   "outputs": [
    {
     "name": "stdout",
     "output_type": "stream",
     "text": [
      "Batch_name: python programming\n",
      "Timing: Morning\n",
      "Duration: 6 months\n"
     ]
    }
   ],
   "source": [
    "gulshan_class.saylani_gulshan_details()"
   ]
  },
  {
   "cell_type": "code",
   "execution_count": 17,
   "id": "e30bf41c",
   "metadata": {},
   "outputs": [],
   "source": [
    "baloch_class = Saylani_baloch(\"combined_batch\",'Evening', '6 months', \"30\")"
   ]
  },
  {
   "cell_type": "code",
   "execution_count": 18,
   "id": "5638ce12",
   "metadata": {},
   "outputs": [
    {
     "name": "stdout",
     "output_type": "stream",
     "text": [
      "Batch_name: python programming\n",
      "Timing: Evening\n",
      "Duration: 6 months\n",
      "Capacity of females: 30\n"
     ]
    }
   ],
   "source": [
    "baloch_class.saylani_baloch_details()"
   ]
  },
  {
   "cell_type": "markdown",
   "id": "f5e1a937",
   "metadata": {},
   "source": [
    "Abstraction"
   ]
  },
  {
   "cell_type": "code",
   "execution_count": 1,
   "id": "b1dd06a4",
   "metadata": {},
   "outputs": [],
   "source": [
    "class Shapes():# abstract class\n",
    "    \n",
    "    #abstract method\n",
    "    def side(self):\n",
    "        ...\n",
    "        "
   ]
  },
  {
   "cell_type": "code",
   "execution_count": 2,
   "id": "ed9c993b",
   "metadata": {},
   "outputs": [],
   "source": [
    "class Triangle(Shapes):#  sub class\n",
    "    \n",
    "    def sides(self):\n",
    "        print('triangle has three sides...')# definition in sub classs\n",
    "        \n",
    "class Square(Shapes):\n",
    "    \n",
    "    def sides(self):\n",
    "        print('square has four sides...')\n",
    "                \n"
   ]
  },
  {
   "cell_type": "code",
   "execution_count": 3,
   "id": "1e5a0560",
   "metadata": {},
   "outputs": [],
   "source": [
    "triangle = Triangle()"
   ]
  },
  {
   "cell_type": "code",
   "execution_count": 4,
   "id": "517331a3",
   "metadata": {},
   "outputs": [
    {
     "name": "stdout",
     "output_type": "stream",
     "text": [
      "triangle has three sides...\n"
     ]
    }
   ],
   "source": [
    "triangle.sides()"
   ]
  },
  {
   "cell_type": "code",
   "execution_count": 6,
   "id": "99d0fb85",
   "metadata": {},
   "outputs": [],
   "source": [
    "square = Square()"
   ]
  },
  {
   "cell_type": "code",
   "execution_count": 10,
   "id": "af436489",
   "metadata": {},
   "outputs": [
    {
     "name": "stdout",
     "output_type": "stream",
     "text": [
      "square has four sides...\n"
     ]
    }
   ],
   "source": [
    "square.sides()"
   ]
  },
  {
   "cell_type": "markdown",
   "id": "a82527f4",
   "metadata": {},
   "source": [
    "polymorphism"
   ]
  },
  {
   "cell_type": "code",
   "execution_count": 13,
   "id": "f10c7262",
   "metadata": {},
   "outputs": [],
   "source": [
    "a = 13"
   ]
  },
  {
   "cell_type": "code",
   "execution_count": 14,
   "id": "be6d4153",
   "metadata": {},
   "outputs": [],
   "source": [
    "a = 15"
   ]
  },
  {
   "cell_type": "code",
   "execution_count": 15,
   "id": "d89ed474",
   "metadata": {},
   "outputs": [
    {
     "data": {
      "text/plain": [
       "15"
      ]
     },
     "execution_count": 15,
     "metadata": {},
     "output_type": "execute_result"
    }
   ],
   "source": [
    "a"
   ]
  },
  {
   "cell_type": "code",
   "execution_count": 7,
   "id": "98866bea",
   "metadata": {},
   "outputs": [],
   "source": [
    "class Animals():# parent class\n",
    "    \n",
    "    def eating(self, name):# same method\n",
    "        print(f'animals are eating: {name}')\n",
    "        \n",
    "class Birds(Animals):# child class\n",
    "    \n",
    "    def eating(self, name):# same method is overwriting\n",
    "        print(f'Birds are eating: {name}')\n",
    "    "
   ]
  },
  {
   "cell_type": "code",
   "execution_count": 8,
   "id": "09759b33",
   "metadata": {},
   "outputs": [
    {
     "name": "stdout",
     "output_type": "stream",
     "text": [
      "Birds are eating: Bajra\n"
     ]
    }
   ],
   "source": [
    "birds = Birds()\n",
    "\n",
    "birds.eating('Bajra')"
   ]
  },
  {
   "cell_type": "code",
   "execution_count": 9,
   "id": "c732cf9a",
   "metadata": {},
   "outputs": [
    {
     "data": {
      "text/plain": [
       "__main__.Birds"
      ]
     },
     "execution_count": 9,
     "metadata": {},
     "output_type": "execute_result"
    }
   ],
   "source": [
    "type(birds)"
   ]
  },
  {
   "cell_type": "code",
   "execution_count": 10,
   "id": "5914c25e",
   "metadata": {},
   "outputs": [
    {
     "name": "stdout",
     "output_type": "stream",
     "text": [
      "animals are eating: grass\n"
     ]
    }
   ],
   "source": [
    "animal = Animals()\n",
    "\n",
    "animal.eating('grass')"
   ]
  },
  {
   "cell_type": "code",
   "execution_count": 11,
   "id": "8385c9fe",
   "metadata": {},
   "outputs": [
    {
     "data": {
      "text/plain": [
       "__main__.Animals"
      ]
     },
     "execution_count": 11,
     "metadata": {},
     "output_type": "execute_result"
    }
   ],
   "source": [
    "type(animal)"
   ]
  },
  {
   "cell_type": "markdown",
   "id": "006c9e26",
   "metadata": {},
   "source": [
    "Method overloading"
   ]
  },
  {
   "cell_type": "code",
   "execution_count": 20,
   "id": "d8135a9f",
   "metadata": {},
   "outputs": [],
   "source": [
    "from typing import overload,Union\n",
    "\n",
    "\n",
    "class Mathematics():\n",
    "    \n",
    "    @overload\n",
    "    def addition(self, x: int , y: int) -> int:\n",
    "            ...\n",
    "            \n",
    "    @overload\n",
    "    def addition(self, x: str , y: str) -> str:\n",
    "            ...\n",
    "            \n",
    "    @overload\n",
    "    def addition(self, x: float , y: float) -> float:\n",
    "            ...\n",
    "            \n",
    "    def addition(self,x: Union[int, str, float] ,y: Union[int, str, float]) -> Union[int, str, float]:\n",
    "        if isinstance(x, int) and isinstance(y, int):\n",
    "            return x+y\n",
    "        elif isinstance(x, str) and isinstance(y, str):\n",
    "            return x+y\n",
    "        elif isinstance(x, float) and isinstance(y, float):\n",
    "            return x+y\n",
    "        else:\n",
    "            raise TypeError(\"Type mismatch\")\n",
    "        "
   ]
  },
  {
   "cell_type": "code",
   "execution_count": 22,
   "id": "d8e822a1",
   "metadata": {},
   "outputs": [],
   "source": [
    "mathematics = Mathematics()"
   ]
  },
  {
   "cell_type": "code",
   "execution_count": 23,
   "id": "2eb08fd4",
   "metadata": {},
   "outputs": [
    {
     "data": {
      "text/plain": [
       "5"
      ]
     },
     "execution_count": 23,
     "metadata": {},
     "output_type": "execute_result"
    }
   ],
   "source": [
    "mathematics.addition(1,4)# int return 5"
   ]
  },
  {
   "cell_type": "code",
   "execution_count": null,
   "id": "ddf4981d",
   "metadata": {},
   "outputs": [],
   "source": [
    "mathematics.addition(1.0,4.)# int return 5"
   ]
  },
  {
   "cell_type": "markdown",
   "id": "b9a2de00",
   "metadata": {},
   "source": [
    "Encapsulation (Encryption)"
   ]
  },
  {
   "cell_type": "code",
   "execution_count": 23,
   "id": "15d40018",
   "metadata": {},
   "outputs": [],
   "source": [
    "class Saylani:\n",
    "    \n",
    "    def __init__(self):\n",
    "        self.helpline = \"021-123456-67\" # public\n",
    "        self._faculty_no = \"0300-7894566\" # protected using _\n",
    "        self.__admission = \"python programming\" #private using __\n",
    "        \n",
    "    def details(self):\n",
    "        print(f'for{self.__admission}please contact helpline {self.helpline} or {self._faculty_no}')"
   ]
  },
  {
   "cell_type": "code",
   "execution_count": 24,
   "id": "668daf42",
   "metadata": {},
   "outputs": [],
   "source": [
    "obj = Saylani()"
   ]
  },
  {
   "cell_type": "code",
   "execution_count": 25,
   "id": "076245d6",
   "metadata": {},
   "outputs": [
    {
     "name": "stdout",
     "output_type": "stream",
     "text": [
      "forpython programmingplease contact helpline 021-123456-67 or 0300-7894566\n"
     ]
    }
   ],
   "source": [
    "obj.details()"
   ]
  },
  {
   "cell_type": "code",
   "execution_count": 27,
   "id": "57f380ae",
   "metadata": {},
   "outputs": [
    {
     "data": {
      "text/plain": [
       "'python programming'"
      ]
     },
     "execution_count": 27,
     "metadata": {},
     "output_type": "execute_result"
    }
   ],
   "source": [
    "obj._Saylani__admission # for private "
   ]
  },
  {
   "cell_type": "code",
   "execution_count": 33,
   "id": "e83e7e36",
   "metadata": {},
   "outputs": [
    {
     "data": {
      "text/plain": [
       "'0300-7894566'"
      ]
     },
     "execution_count": 33,
     "metadata": {},
     "output_type": "execute_result"
    }
   ],
   "source": [
    "obj._faculty_no # for protected"
   ]
  },
  {
   "cell_type": "code",
   "execution_count": 37,
   "id": "9ddc0bc1",
   "metadata": {},
   "outputs": [],
   "source": [
    "class StudentLogin():\n",
    "    \n",
    "    def __init__(self):\n",
    "        self.__user_name = 'user' # private\n",
    "        self.__password = 'password' # private\n",
    "        \n",
    "    def __dbconnectivity(self, user, pass1):\n",
    "        print(\"Sccessfully connected with database\")\n",
    "        if (self.__user_name == user) and (self.__password == pass1):\n",
    "            return \"valid user\"\n",
    "        else:\n",
    "            return \"invalid user\"\n",
    "        \n",
    "    def studentlogin(self, user, pass1):\n",
    "        message = self.__dbconnectivity(user, pass1)\n",
    "        print(message)\n",
    "        \n",
    "    def details(self):\n",
    "        print(f'hello, {self.__user_name} with your credentials {self.__password}')\n",
    "    \n",
    "    "
   ]
  },
  {
   "cell_type": "code",
   "execution_count": 39,
   "id": "5b916ecb",
   "metadata": {},
   "outputs": [
    {
     "name": "stdout",
     "output_type": "stream",
     "text": [
      "Sccessfully connected with database\n",
      "valid user\n",
      "hello, user with your credentials password\n"
     ]
    }
   ],
   "source": [
    "login = StudentLogin()\n",
    "\n",
    "login.studentlogin(\"user\", \"password\")\n",
    "\n",
    "login.details()"
   ]
  },
  {
   "cell_type": "code",
   "execution_count": null,
   "id": "f1edaf6d",
   "metadata": {},
   "outputs": [],
   "source": [
    "1- create a class with the name SaylaniAdmissions\n",
    "2- class should have three dynamic variables i:e., courses_launch, faculty_memebers & timings\n",
    "3- create constructor with required attribute that you think are required \n",
    "   for class but should be at least 2\n",
    "4- create a method that ask salyani administration to dynamically update the courses_launch,\n",
    "   faculty_memebers & timings for latest batch.\n",
    "5- class should have method that can print the latest course launch with their faculty & timings\n",
    "6- create a method that calculate the budget for new addmission based on the \n",
    "   total_number of registration keeping in min that per student expense is 523.75"
   ]
  },
  {
   "cell_type": "code",
   "execution_count": 1,
   "id": "8ee89d8a",
   "metadata": {},
   "outputs": [
    {
     "name": "stdout",
     "output_type": "stream",
     "text": [
      "Latest Course Launches:\n",
      "Course: Machine Learning, Faculty: Morning, Timings: Not specified\n",
      "Total Budget for New Admissions: 52375.0\n"
     ]
    }
   ],
   "source": [
    "class SaylaniAdmissions:\n",
    "    def __init__(self, courses_launch, faculty_members):\n",
    "        self.courses_launch = courses_launch\n",
    "        self.faculty_members = faculty_members\n",
    "        self.timings = {}  # Initializing timings as an empty dictionary\n",
    "        \n",
    "    def update_info(self, courses_launch, faculty_members):\n",
    "        self.courses_launch = courses_launch\n",
    "        self.faculty_members = faculty_members\n",
    "          # Updating timings\n",
    "        \n",
    "    def print_latest_info(self):\n",
    "        print(\"Latest Course Launches:\")\n",
    "        for course, faculty in self.faculty_members.items():\n",
    "            print(f\"Course: {course}, Faculty: {faculty}, Timings: {self.timings.get(course, 'Not specified')}\")\n",
    "    \n",
    "    def calculate_budget(self, total_number_of_registrations):\n",
    "        per_student_expense = 523.75\n",
    "        total_budget = total_number_of_registrations * per_student_expense\n",
    "        return total_budget\n",
    "\n",
    "# Example Usage:\n",
    "courses = {'Python Programming': 'John Doe', 'Web Development': 'Jane Smith'}\n",
    "timings = {'Python Programming': 'Morning', 'Web Development': 'Evening'}\n",
    "saylani = SaylaniAdmissions(courses, timings)\n",
    "saylani.update_info({'Machine Learning': 'Alice Johnson'}, {'Machine Learning': 'Morning'})\n",
    "saylani.print_latest_info()\n",
    "print(\"Total Budget for New Admissions:\", saylani.calculate_budget(100))"
   ]
  },
  {
   "cell_type": "code",
   "execution_count": null,
   "id": "6c4892d7",
   "metadata": {},
   "outputs": [],
   "source": []
  },
  {
   "cell_type": "code",
   "execution_count": null,
   "id": "b7762b85",
   "metadata": {},
   "outputs": [],
   "source": []
  }
 ],
 "metadata": {
  "kernelspec": {
   "display_name": "Python 3 (ipykernel)",
   "language": "python",
   "name": "python3"
  },
  "language_info": {
   "codemirror_mode": {
    "name": "ipython",
    "version": 3
   },
   "file_extension": ".py",
   "mimetype": "text/x-python",
   "name": "python",
   "nbconvert_exporter": "python",
   "pygments_lexer": "ipython3",
   "version": "3.11.5"
  }
 },
 "nbformat": 4,
 "nbformat_minor": 5
}
