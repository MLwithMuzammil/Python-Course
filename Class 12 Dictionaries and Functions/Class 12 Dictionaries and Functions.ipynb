{
 "cells": [
  {
   "cell_type": "code",
   "execution_count": null,
   "id": "9e39988f",
   "metadata": {},
   "outputs": [],
   "source": [
    " customers = [\n",
    " {\"customer id\": 0,\n",
    "  \"first name\":\"John\",\n",
    "  \"last name\": \"Ogden\",\n",
    "  \"address\": \"301 Arbor Rd.\",},\n",
    " {\"customer id\": 1,\n",
    "  \"first name\":\"Ann\",\n",
    "  \"last name\": \"Sattermyer\",\n",
    "  \"address\": \"PO Box 1145\",},\n",
    " {\"customer id\": 2,\n",
    "  \"first name\":\"Jill\",\n",
    "  \"last name\": \"Somers\",\n",
    "  \"address\": \"3 Main St.\",}\n",
    " ]\n"
   ]
  },
  {
   "cell_type": "code",
   "execution_count": 4,
   "id": "bde28bbb",
   "metadata": {},
   "outputs": [],
   "source": [
    "dict_of_dict = {\n",
    "    \"customer 1\" : {\"customer id\": 0,\n",
    "                  \"first name\":\"John\",\n",
    "                  \"last name\": \"Ogden\",\n",
    "                  \"address\": \"301 Arbor Rd.\",},\n",
    "    \"customer 2\" : {\"customer id\": 1,\n",
    "                  \"first name\":\"Ann\",\n",
    "                  \"last name\": \"Sattermyer\",\n",
    "                  \"address\": \"PO Box 1145\",},\n",
    "    \"customer 3\" : {\"customer id\": 2,\n",
    "                  \"first name\":\"Jill\",\n",
    "                  \"last name\": \"Somers\",\n",
    "                  \"address\": \"3 Main St.\",}\n",
    "    \n",
    "}"
   ]
  },
  {
   "cell_type": "code",
   "execution_count": 5,
   "id": "8656c87a",
   "metadata": {},
   "outputs": [
    {
     "data": {
      "text/plain": [
       "{'customer 1': {'customer id': 0,\n",
       "  'first name': 'John',\n",
       "  'last name': 'Ogden',\n",
       "  'address': '301 Arbor Rd.'},\n",
       " 'customer 2': {'customer id': 1,\n",
       "  'first name': 'Ann',\n",
       "  'last name': 'Sattermyer',\n",
       "  'address': 'PO Box 1145'},\n",
       " 'customer 3': {'customer id': 2,\n",
       "  'first name': 'Jill',\n",
       "  'last name': 'Somers',\n",
       "  'address': '3 Main St.'}}"
      ]
     },
     "execution_count": 5,
     "metadata": {},
     "output_type": "execute_result"
    }
   ],
   "source": [
    "dict_of_dict"
   ]
  },
  {
   "cell_type": "code",
   "execution_count": 6,
   "id": "505b6d5b",
   "metadata": {},
   "outputs": [
    {
     "data": {
      "text/plain": [
       "{'customer id': 0,\n",
       " 'first name': 'John',\n",
       " 'last name': 'Ogden',\n",
       " 'address': '301 Arbor Rd.'}"
      ]
     },
     "execution_count": 6,
     "metadata": {},
     "output_type": "execute_result"
    }
   ],
   "source": [
    "dict_of_dict[\"customer 1\"]"
   ]
  },
  {
   "cell_type": "markdown",
   "id": "289870e3",
   "metadata": {},
   "source": [
    "41\n",
    "Functions"
   ]
  },
  {
   "cell_type": "code",
   "execution_count": 7,
   "id": "da4c7f7d",
   "metadata": {},
   "outputs": [
    {
     "data": {
      "text/plain": [
       "7"
      ]
     },
     "execution_count": 7,
     "metadata": {},
     "output_type": "execute_result"
    }
   ],
   "source": [
    "2 + 5"
   ]
  },
  {
   "cell_type": "code",
   "execution_count": 9,
   "id": "e85545e7",
   "metadata": {},
   "outputs": [
    {
     "name": "stdout",
     "output_type": "stream",
     "text": [
      "Enter number 1: 4\n",
      "Enter number 2: 5\n"
     ]
    },
    {
     "data": {
      "text/plain": [
       "9"
      ]
     },
     "execution_count": 9,
     "metadata": {},
     "output_type": "execute_result"
    }
   ],
   "source": [
    "num1 = int(input(\"Enter number 1: \"))\n",
    "num2 = int(input(\"Enter number 2: \"))\n",
    "\n",
    "num1 + num2"
   ]
  },
  {
   "cell_type": "code",
   "execution_count": null,
   "id": "f4de87ea",
   "metadata": {},
   "outputs": [],
   "source": [
    "bio = int(input(\"Enter marks bio: \"))\n",
    "chem = int(input(\"Enter marks chem: \"))\n",
    "eng = int(input(\"Enter marks eng: \"))\n",
    "phy = int(input(\"Enter marks phy: \"))\n",
    "\n",
    "total_marks = 400\n",
    "obtain_marks = bio+chem+eng+phy\n",
    "percentage = (obtain_marks*100)/total_marks"
   ]
  },
  {
   "cell_type": "code",
   "execution_count": 10,
   "id": "4de42572",
   "metadata": {},
   "outputs": [],
   "source": [
    "def calculate_percentage(bio, chem, eng, phy):# when using again & again\n",
    "    total_marks = 400\n",
    "    obtain_marks = bio+chem+eng+phy\n",
    "    percentage = (obtain_marks*100)/total_marks\n",
    "    print(percentage)"
   ]
  },
  {
   "cell_type": "code",
   "execution_count": 12,
   "id": "50d47ce8",
   "metadata": {},
   "outputs": [
    {
     "name": "stdout",
     "output_type": "stream",
     "text": [
      "36.75\n"
     ]
    }
   ],
   "source": [
    "calculate_percentage(23, 24, 45, 55)"
   ]
  },
  {
   "cell_type": "code",
   "execution_count": 13,
   "id": "d0ef06ff",
   "metadata": {},
   "outputs": [
    {
     "name": "stdout",
     "output_type": "stream",
     "text": [
      "56.5\n"
     ]
    }
   ],
   "source": [
    "calculate_percentage(34, 44, 99, 49)"
   ]
  },
  {
   "cell_type": "code",
   "execution_count": 14,
   "id": "653834c2",
   "metadata": {},
   "outputs": [
    {
     "name": "stdout",
     "output_type": "stream",
     "text": [
      "Enter marks bio: 66\n",
      "Enter marks chem: 77\n",
      "Enter marks eng: 84\n",
      "Enter marks phy: 65\n",
      "73.0\n"
     ]
    }
   ],
   "source": [
    "bio = int(input(\"Enter marks bio: \"))\n",
    "chem = int(input(\"Enter marks chem: \"))\n",
    "eng = int(input(\"Enter marks eng: \"))\n",
    "phy = int(input(\"Enter marks phy: \"))\n",
    "\n",
    "calculate_percentage(bio, chem, eng, phy)\n"
   ]
  },
  {
   "cell_type": "code",
   "execution_count": null,
   "id": "5cf0829c",
   "metadata": {},
   "outputs": [],
   "source": [
    "bio = int(input(\"Enter marks bio: \"))\n",
    "chem = int(input(\"Enter marks chem: \"))\n",
    "eng = int(input(\"Enter marks eng: \"))\n",
    "phy = int(input(\"Enter marks phy: \"))\n",
    "\n",
    "calculate_percentage(bio, chem, eng, phy)\n"
   ]
  },
  {
   "cell_type": "code",
   "execution_count": 29,
   "id": "f7e28dc6",
   "metadata": {},
   "outputs": [],
   "source": [
    "def cal_area_of_square():\n",
    "    length1 = int(input(\"Enter length of square: \"))\n",
    "    print(f\"Area of Square is {length*length}sq units\")"
   ]
  },
  {
   "cell_type": "code",
   "execution_count": 19,
   "id": "77a1d1ab",
   "metadata": {},
   "outputs": [
    {
     "name": "stdout",
     "output_type": "stream",
     "text": [
      "Enter length of square: 44\n",
      "Area of Square is 1936\n"
     ]
    }
   ],
   "source": [
    "cal_area_of_square()"
   ]
  },
  {
   "cell_type": "code",
   "execution_count": 21,
   "id": "b3cc0240",
   "metadata": {},
   "outputs": [
    {
     "name": "stdout",
     "output_type": "stream",
     "text": [
      "Enter length of square: 12\n",
      "Area of Square is 144sq units\n"
     ]
    }
   ],
   "source": [
    "cal_area_of_square()"
   ]
  },
  {
   "cell_type": "code",
   "execution_count": 34,
   "id": "953ba6cb",
   "metadata": {},
   "outputs": [],
   "source": [
    "def cal_area_of_rectangle():\n",
    "    length = int(input(\"Enter length of square: \"))\n",
    "    width = int(input(\"Enter width of square: \"))\n",
    "    print(f\"Area of Rectangle is {length*width}sq units\")"
   ]
  },
  {
   "cell_type": "code",
   "execution_count": 27,
   "id": "e19a15dc",
   "metadata": {},
   "outputs": [
    {
     "name": "stdout",
     "output_type": "stream",
     "text": [
      "Enter length of square: 3\n",
      "Enter length of square: 6\n",
      "Area of Square is 18sq units\n"
     ]
    }
   ],
   "source": [
    "cal_area_of_square()"
   ]
  },
  {
   "cell_type": "code",
   "execution_count": 35,
   "id": "2318eb8a",
   "metadata": {},
   "outputs": [
    {
     "name": "stdout",
     "output_type": "stream",
     "text": [
      "Enter length of square: 5\n",
      "Enter width of square: 8\n",
      "Area of Rectangle is 40sq units\n"
     ]
    }
   ],
   "source": [
    "cal_area_of_rectangle()"
   ]
  },
  {
   "cell_type": "code",
   "execution_count": null,
   "id": "a35aa9cd",
   "metadata": {},
   "outputs": [],
   "source": []
  }
 ],
 "metadata": {
  "kernelspec": {
   "display_name": "Python 3 (ipykernel)",
   "language": "python",
   "name": "python3"
  },
  "language_info": {
   "codemirror_mode": {
    "name": "ipython",
    "version": 3
   },
   "file_extension": ".py",
   "mimetype": "text/x-python",
   "name": "python",
   "nbconvert_exporter": "python",
   "pygments_lexer": "ipython3",
   "version": "3.11.5"
  }
 },
 "nbformat": 4,
 "nbformat_minor": 5
}
