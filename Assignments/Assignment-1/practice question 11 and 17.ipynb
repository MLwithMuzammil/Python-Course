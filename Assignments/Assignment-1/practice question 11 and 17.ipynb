{
 "cells": [
  {
   "cell_type": "markdown",
   "id": "478035c9",
   "metadata": {},
   "source": [
    "Q11) A shop will give discount of 10% if the cost of purchased quantity is more than 1000. Ask user for quantity Suppose, one unit will cost 100. Judge and print total cost for user."
   ]
  },
  {
   "cell_type": "code",
   "execution_count": 4,
   "id": "bd1948b3",
   "metadata": {},
   "outputs": [
    {
     "name": "stdout",
     "output_type": "stream",
     "text": [
      "Enter the cost: 2000\n",
      "totalcost 2200.0\n"
     ]
    }
   ],
   "source": [
    "cost = int(input(\"Enter the cost: \"))\n",
    "if cost > 1000:\n",
    "    print(\"totalcost\" , (cost*10/100)+cost)"
   ]
  },
  {
   "cell_type": "markdown",
   "id": "13ce97bd",
   "metadata": {},
   "source": [
    "Q12) A school has following rules for grading system:"
   ]
  },
  {
   "cell_type": "markdown",
   "id": "df2640af",
   "metadata": {},
   "source": [
    "a. Below 25 - F\n",
    "\n",
    "b. 25 to 45 - E\n",
    "\n",
    "c. 45 to 50 - D\n",
    "\n",
    "d. 50 to 60 - C\n",
    "\n",
    "e. 60 to 80 - B\n",
    "\n",
    "f. Above 80 - A\n",
    "\n",
    "Ask user to enter marks and print the corresponding grade."
   ]
  },
  {
   "cell_type": "code",
   "execution_count": 8,
   "id": "68184eaf",
   "metadata": {},
   "outputs": [
    {
     "name": "stdout",
     "output_type": "stream",
     "text": [
      "enter your marks: 88\n",
      "A\n"
     ]
    }
   ],
   "source": [
    "marks_scored = int(input(\"enter your marks: \"))\n",
    "if marks_scored<25:\n",
    "    print(\"F\")\n",
    "elif 25<marks_scored<=45:\n",
    "    print(\"E\")\n",
    "elif 45<marks_scored<50:\n",
    "    print(\"D\")\n",
    "elif 50<marks_scored<=60:\n",
    "    print(\"c\")\n",
    "elif 60<marks_scored<=80:\n",
    "    print(\"B\")\n",
    "elif 80<marks_scored:\n",
    "    print(\"A\")"
   ]
  },
  {
   "cell_type": "markdown",
   "id": "a96ff659",
   "metadata": {},
   "source": [
    "Q13) A student not to sit in exam if his/her attendence is less than 75%\n",
    "Take following input from user\n",
    "\n",
    "number of classes held\n",
    "number of classes attented\n",
    "and print\n",
    "percentage of class attented\n",
    "is student is allowed to sitin exam or not."
   ]
  },
  {
   "cell_type": "code",
   "execution_count": 3,
   "id": "9439c94b",
   "metadata": {},
   "outputs": [
    {
     "name": "stdout",
     "output_type": "stream",
     "text": [
      "Enter number of classes held: 200\n",
      "Enter number of classes attend: 160\n",
      "your Percentage_of_Attendence is 80.0 allowed to sit in exam.\n"
     ]
    }
   ],
   "source": [
    "classes_held = int(input(\"Enter number of classes held: \"))\n",
    "classes_attend = int(input(\"Enter number of classes attend: \"))\n",
    "Percentage_of_Attendence = (classes_attend/classes_held)*100\n",
    "if Percentage_of_Attendence>75:\n",
    "    print(\"your Percentage_of_Attendence is\", Percentage_of_Attendence , \"allowed to sit in exam.\")\n",
    "else:\n",
    "    print(\"not allowed to sit in exam.\")"
   ]
  },
  {
   "cell_type": "markdown",
   "id": "f2ab0ad2",
   "metadata": {},
   "source": [
    "Q14) Take input of age of 3 people by user and determine oldest and youngest among them."
   ]
  },
  {
   "cell_type": "code",
   "execution_count": 7,
   "id": "6e890225",
   "metadata": {},
   "outputs": [
    {
     "name": "stdout",
     "output_type": "stream",
     "text": [
      "Enter first age: 55\n",
      "Enter second age: 34\n",
      "Enter third age: 23\n",
      "age1 is oldest among them and age3 is youngest among them.\n"
     ]
    }
   ],
   "source": [
    "age1 = int(input(\"Enter first age: \"))\n",
    "age2 = int(input(\"Enter second age: \"))\n",
    "age3 = int(input(\"Enter third age: \"))\n",
    "\n",
    "if age1>age2>age3:\n",
    "    print(\"age1 is oldest among them and age3 is youngest among them.\")\n",
    "elif age2>age1>age3:\n",
    "    print(\"age2 is oldest among them and age3 is youngest among them.\")\n",
    "elif age3>age2>age1:\n",
    "    print(\"age3 is oldest among them and age1 is youngest among them.\")\n",
    "elif age3>age1>age2:\n",
    "    print(\"age3 is oldest among them and age2 is youngest among them.\")\n",
    "elif age2>age3>age1:\n",
    "    print(\"age2 is oldest among them and age1 is youngest among them.\")\n",
    "elif age1>age3>age2:\n",
    "    print(\"age1 is oldest among them and age2 is youngest among them.\")\n"
   ]
  },
  {
   "cell_type": "markdown",
   "id": "10e05608",
   "metadata": {},
   "source": [
    "Q15) Modify the above question to allow student to sit if he/she has medical cause. Ask user if he/she has medical cause or not ( 'Y' or 'N' ) and print accordingly."
   ]
  },
  {
   "cell_type": "code",
   "execution_count": 2,
   "id": "ee82ef53",
   "metadata": {},
   "outputs": [
    {
     "name": "stdout",
     "output_type": "stream",
     "text": [
      "Do you have a medicial cause, (Y/N)? Y\n",
      "you are allowed to sit in exam.\n"
     ]
    }
   ],
   "source": [
    "medical = input(\"Do you have a medicial cause, (Y/N)? \")\n",
    "\n",
    "if medical==\"Y\":\n",
    "    print(\"you are allowed to sit in exam.\")\n",
    "else:\n",
    "    print(\"You are not allowed to sit in exam\")"
   ]
  },
  {
   "cell_type": "markdown",
   "id": "92081c13",
   "metadata": {},
   "source": [
    "Q16) Write a program to check if a year is leap year or not.\n",
    "\n",
    "If a year is divisible by 4 then it is leap year but if the year is century year like 2000, 1900, 2100 then it must be divisible by 400."
   ]
  },
  {
   "cell_type": "code",
   "execution_count": 13,
   "id": "4af0cd86",
   "metadata": {},
   "outputs": [
    {
     "name": "stdout",
     "output_type": "stream",
     "text": [
      "Enter the year: 2022\n",
      "2022 is not aleap year.\n"
     ]
    }
   ],
   "source": [
    "year = int(input(\"Enter the year: \"))\n",
    "if (year%400==0) and (year%100==0):\n",
    "           print(year, \"is a leap year\")\n",
    "elif(year%4==0) and (year%100!=0):\n",
    "    print(year, \"is a leap year\")\n",
    "    \n",
    "else:\n",
    "    print(year, \"is not aleap year.\")\n"
   ]
  },
  {
   "cell_type": "markdown",
   "id": "198c933c",
   "metadata": {},
   "source": [
    "Q17) Ask user to enter age, gender ( M or F ), marital status ( Y or N ) and then using following rules print their place of service.\n",
    "\n",
    "if employee is female, then she will work only in urban areas.\n",
    "\n",
    "if employee is a male and age is in between 20 to 40 then he may work in anywhere\n",
    "\n",
    "if employee is male and age is in between 40 t0 60 then he will work in urban areas only.\n",
    "\n",
    "And any other input of age should print \"ERROR\""
   ]
  },
  {
   "cell_type": "code",
   "execution_count": 2,
   "id": "32e9345b",
   "metadata": {},
   "outputs": [
    {
     "name": "stdout",
     "output_type": "stream",
     "text": [
      "Enter your age: 24\n",
      "Enter your gender (M or F): M\n",
      "What is your martial status (Y/N): y\n",
      "You can work anywhere.\n"
     ]
    }
   ],
   "source": [
    "age = int(input(\"Enter your age: \"))\n",
    "gender = input(\"Enter your gender (M or F): \")\n",
    "martial_status = input(\"What is your martial status (Y/N): \")\n",
    "\n",
    "if gender==\"F\":\n",
    "    print(\"You will only work in urban areas.\")\n",
    "elif gender==\"M\":\n",
    "    if 20<=age<=40:\n",
    "        print(\"You can work anywhere.\")\n",
    "    elif 40<=age<=60:\n",
    "        print(\"You will only work in urban areas.\")\n",
    "else:\n",
    "    print(\"ERROR\")"
   ]
  },
  {
   "cell_type": "markdown",
   "id": "7a82a747",
   "metadata": {},
   "source": [
    "ASSIGNMENT COMPLETED"
   ]
  },
  {
   "cell_type": "code",
   "execution_count": null,
   "id": "1ac4175e",
   "metadata": {},
   "outputs": [],
   "source": []
  }
 ],
 "metadata": {
  "kernelspec": {
   "display_name": "Python 3 (ipykernel)",
   "language": "python",
   "name": "python3"
  },
  "language_info": {
   "codemirror_mode": {
    "name": "ipython",
    "version": 3
   },
   "file_extension": ".py",
   "mimetype": "text/x-python",
   "name": "python",
   "nbconvert_exporter": "python",
   "pygments_lexer": "ipython3",
   "version": "3.11.5"
  }
 },
 "nbformat": 4,
 "nbformat_minor": 5
}
