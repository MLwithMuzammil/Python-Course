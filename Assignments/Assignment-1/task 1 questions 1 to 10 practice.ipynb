{
 "cells": [
  {
   "cell_type": "markdown",
   "id": "52872a84",
   "metadata": {},
   "source": [
    "Q1) A company decided to give bonus of 5% to employee if his/her year of service is more than 5 years. Ask user for their salary and year of service and print the net bonus amount."
   ]
  },
  {
   "cell_type": "code",
   "execution_count": 2,
   "id": "fb27ae47",
   "metadata": {},
   "outputs": [
    {
     "name": "stdout",
     "output_type": "stream",
     "text": [
      "Enter your Salary: 50000\n",
      "Enter the number of years you service: 7\n",
      "your bonus is Rs 52500.0\n"
     ]
    }
   ],
   "source": [
    "salary = int(input(\"Enter your Salary: \"))\n",
    "service = int(input(\"Enter the number of years you service: \"))\n",
    "bonus = (salary*5)/100\n",
    "if service > 5:\n",
    "    salary += bonus\n",
    "    print(\"your bonus is Rs\", salary)\n",
    "else:\n",
    "    print(\"no bonus for you\")"
   ]
  },
  {
   "cell_type": "markdown",
   "id": "ef698d98",
   "metadata": {},
   "source": [
    "Q2) Write a program to check whether a person is eligible for voting or not. (accept age from user) if age is greater than 17 eligible otherwise not eligible"
   ]
  },
  {
   "cell_type": "code",
   "execution_count": 3,
   "id": "870f2156",
   "metadata": {},
   "outputs": [
    {
     "name": "stdout",
     "output_type": "stream",
     "text": [
      "Enter your Age: 19\n",
      "you are eligible for voting.\n"
     ]
    }
   ],
   "source": [
    "age = int(input(\"Enter your Age: \"))\n",
    "if age > 17:\n",
    "    print(\"you are eligible for voting.\")\n",
    "else:\n",
    "    print(\"you are not eligible for voting.\")"
   ]
  },
  {
   "cell_type": "markdown",
   "id": "1dbb2a5d",
   "metadata": {},
   "source": [
    "Q3) Write a program to check whether a number entered by user is even or odd."
   ]
  },
  {
   "cell_type": "code",
   "execution_count": 5,
   "id": "bb20aaab",
   "metadata": {},
   "outputs": [
    {
     "name": "stdout",
     "output_type": "stream",
     "text": [
      "Enter Number :10\n",
      "even\n"
     ]
    }
   ],
   "source": [
    "number = int(input(\"Enter Number :\"))\n",
    "if number % 2 == 0:\n",
    "    print(\"even\")\n",
    "else:\n",
    "    print(\"odd\")"
   ]
  },
  {
   "cell_type": "markdown",
   "id": "0df6b5fc",
   "metadata": {},
   "source": [
    "Q4) Write a program to check whether a number is divisible by 7 or not. Show Answer"
   ]
  },
  {
   "cell_type": "code",
   "execution_count": 7,
   "id": "b7d47741",
   "metadata": {},
   "outputs": [
    {
     "name": "stdout",
     "output_type": "stream",
     "text": [
      "Enter Number: 14\n",
      "number is divisible by 7\n"
     ]
    }
   ],
   "source": [
    "number = int(input(\"Enter Number: \"))\n",
    "if number % 7 == 0:\n",
    "    print(\"number is divisible by 7\")\n",
    "else:\n",
    "    print(\"number is not divisible by 7\")"
   ]
  },
  {
   "cell_type": "raw",
   "id": "00f30105",
   "metadata": {},
   "source": [
    "Q5) Write a program to display \"Hello\" if a number entered by user is a multiple of five , otherwise print \"Bye\"."
   ]
  },
  {
   "cell_type": "code",
   "execution_count": 9,
   "id": "79b7cd8d",
   "metadata": {},
   "outputs": [
    {
     "name": "stdout",
     "output_type": "stream",
     "text": [
      "Enter Number : 49\n",
      "bye\n"
     ]
    }
   ],
   "source": [
    "number = int(input(\"Enter Number : \"))\n",
    "if number % 5 == 0:\n",
    "    print(\"hello\")\n",
    "else:\n",
    "    print(\"bye\")"
   ]
  },
  {
   "cell_type": "markdown",
   "id": "ebb299e8",
   "metadata": {},
   "source": [
    "Q6) Write a program to calculate the electricity bill (accept number of unit from user) according to the following criteria : Unit Price\n",
    "uptp 100 units no charge Next 200 units Rs 5 per unit After 200 units Rs 10 per unit (For example if input unit is 350 than total bill amount is Rs.3500 (For example if input unit is 97 than total bill amount is Rs.0 (For example if input unit is 150 than total bill amount is Rs.750"
   ]
  },
  {
   "cell_type": "code",
   "execution_count": 14,
   "id": "f9c55de3",
   "metadata": {},
   "outputs": [
    {
     "name": "stdout",
     "output_type": "stream",
     "text": [
      "Enter the number of units consumed: 259\n",
      "2590\n"
     ]
    }
   ],
   "source": [
    "electricity_units = int(input(\"Enter the number of units consumed: \"))\n",
    "if electricity_units <= 100:\n",
    "    print(\"no charge.\")\n",
    "elif 100<electricity_units<=200:\n",
    "    print(electricity_units*5)\n",
    "elif electricity_units>200:\n",
    "    print(electricity_units*10)"
   ]
  },
  {
   "cell_type": "markdown",
   "id": "ceebbb7c",
   "metadata": {},
   "source": [
    "Q7) Write a program to display the last digit of a number."
   ]
  },
  {
   "cell_type": "code",
   "execution_count": 16,
   "id": "208a05fa",
   "metadata": {},
   "outputs": [
    {
     "name": "stdout",
     "output_type": "stream",
     "text": [
      "Enter number : 5678\n",
      "8\n"
     ]
    }
   ],
   "source": [
    "number = int(input(\"Enter number : \"))\n",
    "print (number%10)"
   ]
  },
  {
   "cell_type": "markdown",
   "id": "3094f675",
   "metadata": {},
   "source": [
    "Q8. Write a program to check whether the last digit of a number( entered by user ) is divisible by 3 or not."
   ]
  },
  {
   "cell_type": "code",
   "execution_count": 21,
   "id": "9b322cf1",
   "metadata": {},
   "outputs": [
    {
     "name": "stdout",
     "output_type": "stream",
     "text": [
      "Enter number: 1234\n",
      "number is not divisible by 3\n"
     ]
    }
   ],
   "source": [
    "number = int(input(\"Enter number: \"))\n",
    "new_number = number%10\n",
    "divisible = new_number%3\n",
    "\n",
    "if divisible == 0:\n",
    "    print(\"number is divisible by 3\")\n",
    "else:\n",
    "    print(\"number is not divisible by 3\")"
   ]
  },
  {
   "cell_type": "markdown",
   "id": "60819fee",
   "metadata": {},
   "source": [
    "Q9) Take values of length and breadth of a rectangle from user and print if it is square or rectangle."
   ]
  },
  {
   "cell_type": "code",
   "execution_count": 22,
   "id": "c6341f4a",
   "metadata": {},
   "outputs": [
    {
     "name": "stdout",
     "output_type": "stream",
     "text": [
      "Enter the lenght: 55\n",
      "Enter the breadth55\n",
      "square.\n"
     ]
    }
   ],
   "source": [
    "lenght = int(input(\"Enter the lenght: \"))\n",
    "breadth = int(input(\"Enter the breadth\"))\n",
    "if lenght == breadth:\n",
    "    print(\"square.\")\n",
    "else:\n",
    "    print(\"rectangle.\")"
   ]
  },
  {
   "cell_type": "markdown",
   "id": "55a00dfd",
   "metadata": {},
   "source": [
    "Q10) Take two int values from user and print greatest among them."
   ]
  },
  {
   "cell_type": "code",
   "execution_count": 26,
   "id": "b5191fa3",
   "metadata": {},
   "outputs": [
    {
     "name": "stdout",
     "output_type": "stream",
     "text": [
      "Enter first number : 5\n",
      "Enter second number : 10\n",
      "10\n"
     ]
    }
   ],
   "source": [
    "num_1 = int(input(\"Enter first number : \"))\n",
    "num_2 = int(input(\"Enter second number : \"))\n",
    "if num_1>num_2:\n",
    "    print(num_1)\n",
    "else:\n",
    "    print(num_2)"
   ]
  },
  {
   "cell_type": "code",
   "execution_count": null,
   "id": "6d077f58",
   "metadata": {},
   "outputs": [],
   "source": []
  }
 ],
 "metadata": {
  "kernelspec": {
   "display_name": "Python 3 (ipykernel)",
   "language": "python",
   "name": "python3"
  },
  "language_info": {
   "codemirror_mode": {
    "name": "ipython",
    "version": 3
   },
   "file_extension": ".py",
   "mimetype": "text/x-python",
   "name": "python",
   "nbconvert_exporter": "python",
   "pygments_lexer": "ipython3",
   "version": "3.11.5"
  }
 },
 "nbformat": 4,
 "nbformat_minor": 5
}
