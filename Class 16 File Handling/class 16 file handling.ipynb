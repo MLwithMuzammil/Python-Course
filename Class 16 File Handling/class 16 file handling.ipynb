{
 "cells": [
  {
   "cell_type": "markdown",
   "id": "cdd679a5",
   "metadata": {},
   "source": [
    "62\n",
    "Data files"
   ]
  },
  {
   "cell_type": "code",
   "execution_count": 4,
   "id": "505e30b8",
   "metadata": {},
   "outputs": [],
   "source": [
    "with open(\"file_Handling.txt\",'w') as file:\n",
    "    file.write('hello, We are learning file handling')\n",
    "\n",
    "# / in in all OS\n",
    "# \\ in window\n",
    "# ./\n",
    "# r"
   ]
  },
  {
   "cell_type": "code",
   "execution_count": 5,
   "id": "81469b72",
   "metadata": {},
   "outputs": [],
   "source": [
    "with open(\"file_Handling.txt\", 'a') as file:\n",
    "    file.write('\\n We are learning file handling with append mode')"
   ]
  },
  {
   "cell_type": "code",
   "execution_count": 6,
   "id": "03577426",
   "metadata": {},
   "outputs": [
    {
     "name": "stdout",
     "output_type": "stream",
     "text": [
      "hello, We are learning file handling\n",
      " We are learning file handling with append mode\n"
     ]
    }
   ],
   "source": [
    "with open(\"file_Handling.txt\",'r') as file:\n",
    "    file_content = file.read()\n",
    "    print(file_content)"
   ]
  },
  {
   "cell_type": "code",
   "execution_count": 7,
   "id": "f2551f55",
   "metadata": {},
   "outputs": [],
   "source": [
    "file = open('whatever.txt', 'w')"
   ]
  },
  {
   "cell_type": "code",
   "execution_count": 8,
   "id": "de51e801",
   "metadata": {},
   "outputs": [],
   "source": [
    "file.write(\"should write\")\n",
    "file.close()"
   ]
  },
  {
   "cell_type": "code",
   "execution_count": 9,
   "id": "f15a7cc5",
   "metadata": {},
   "outputs": [],
   "source": [
    "greetings = \"Welcome to Saylani class\"\n",
    "with open(\"file_greeting.txt\", 'w') as file:\n",
    "    file.write(greetings)"
   ]
  },
  {
   "cell_type": "markdown",
   "id": "295c2466",
   "metadata": {},
   "source": [
    "Modules"
   ]
  },
  {
   "cell_type": "code",
   "execution_count": 1,
   "id": "0a74de08",
   "metadata": {},
   "outputs": [],
   "source": [
    "import calculations"
   ]
  },
  {
   "cell_type": "code",
   "execution_count": 3,
   "id": "f259a5d4",
   "metadata": {},
   "outputs": [
    {
     "data": {
      "text/plain": [
       "2.0"
      ]
     },
     "execution_count": 3,
     "metadata": {},
     "output_type": "execute_result"
    }
   ],
   "source": [
    "calculations.sqrt(4)"
   ]
  },
  {
   "cell_type": "code",
   "execution_count": 4,
   "id": "f2a77004",
   "metadata": {},
   "outputs": [],
   "source": [
    "from calculations import subtract, addition"
   ]
  },
  {
   "cell_type": "code",
   "execution_count": 5,
   "id": "b76ae632",
   "metadata": {},
   "outputs": [
    {
     "data": {
      "text/plain": [
       "2"
      ]
     },
     "execution_count": 5,
     "metadata": {},
     "output_type": "execute_result"
    }
   ],
   "source": [
    "subtract(5, 3)"
   ]
  },
  {
   "cell_type": "code",
   "execution_count": 6,
   "id": "4317eca9",
   "metadata": {},
   "outputs": [
    {
     "data": {
      "text/plain": [
       "95"
      ]
     },
     "execution_count": 6,
     "metadata": {},
     "output_type": "execute_result"
    }
   ],
   "source": [
    "addition(18, 77)"
   ]
  },
  {
   "cell_type": "markdown",
   "id": "4f3c22b9",
   "metadata": {},
   "source": [
    "CSV Files"
   ]
  },
  {
   "cell_type": "code",
   "execution_count": 3,
   "id": "60297380",
   "metadata": {},
   "outputs": [],
   "source": [
    "import csv"
   ]
  },
  {
   "cell_type": "code",
   "execution_count": 6,
   "id": "18269495",
   "metadata": {},
   "outputs": [],
   "source": [
    "with open(\"data.csv\", 'w', newline='') as file:\n",
    "    csv_write = csv.writer(file, delimiter=',')\n",
    "    csv_write.writerow(['year','event','winner'])# header\n",
    "    csv_write.writerow(['1995','best lawn','none'])# data/record\n",
    "    csv_write.writerow(['1999','nobahar','welch national'])# data/record\n",
    "    "
   ]
  },
  {
   "cell_type": "code",
   "execution_count": 7,
   "id": "37543f84",
   "metadata": {},
   "outputs": [],
   "source": [
    "with open(\"data.csv\", 'a', newline='') as file:\n",
    "    csv_write = csv.writer(file, delimiter=',')\n",
    "    csv_write.writerow(['2000','t-20','pakistan'])# data/record\n",
    "    csv_write.writerow(['1995','one day','pakistan'])# data/record\n",
    "    csv_write.writerow(['1999','nobahar','welch national'])# data/record"
   ]
  },
  {
   "cell_type": "code",
   "execution_count": 8,
   "id": "5c0d88d8",
   "metadata": {},
   "outputs": [
    {
     "name": "stdout",
     "output_type": "stream",
     "text": [
      "<_csv.reader object at 0x000001F859930100>\n"
     ]
    }
   ],
   "source": [
    "with open(\"data.csv\", 'r') as file:\n",
    "    csv_reader = csv.reader(file, delimiter=',')\n",
    "    print(csv_reader)\n",
    "    list1 = []\n",
    "    for rec in csv_reader:\n",
    "        list1 += rec"
   ]
  },
  {
   "cell_type": "code",
   "execution_count": 9,
   "id": "2a13655b",
   "metadata": {},
   "outputs": [
    {
     "name": "stdout",
     "output_type": "stream",
     "text": [
      "['year', 'event', 'winner', '1995', 'best lawn', 'none', '1999', 'nobahar', 'welch national', '2000', 't-20', 'pakistan', '1995', 'one day', 'pakistan', '1999', 'nobahar', 'welch national']\n"
     ]
    }
   ],
   "source": [
    "print(list1)"
   ]
  },
  {
   "cell_type": "code",
   "execution_count": null,
   "id": "c79473e8",
   "metadata": {},
   "outputs": [],
   "source": []
  }
 ],
 "metadata": {
  "kernelspec": {
   "display_name": "Python 3 (ipykernel)",
   "language": "python",
   "name": "python3"
  },
  "language_info": {
   "codemirror_mode": {
    "name": "ipython",
    "version": 3
   },
   "file_extension": ".py",
   "mimetype": "text/x-python",
   "name": "python",
   "nbconvert_exporter": "python",
   "pygments_lexer": "ipython3",
   "version": "3.11.5"
  }
 },
 "nbformat": 4,
 "nbformat_minor": 5
}
