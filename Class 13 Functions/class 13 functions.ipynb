{
 "cells": [
  {
   "cell_type": "markdown",
   "id": "c5d4c383",
   "metadata": {},
   "source": [
    "simple function creation"
   ]
  },
  {
   "cell_type": "code",
   "execution_count": 1,
   "id": "550dc985",
   "metadata": {},
   "outputs": [],
   "source": [
    "def calc_area():\n",
    "    lenght = int(input(\"Enter Lenght: \"))\n",
    "    area = lenght * lenght\n",
    "    print(f\"area of square is {area} sq.km\")"
   ]
  },
  {
   "cell_type": "code",
   "execution_count": 2,
   "id": "2d32931d",
   "metadata": {},
   "outputs": [
    {
     "name": "stdout",
     "output_type": "stream",
     "text": [
      "Enter Lenght: 4\n",
      "area of square is 16 sq.km\n"
     ]
    }
   ],
   "source": [
    "calc_area()"
   ]
  },
  {
   "cell_type": "markdown",
   "id": "815091b2",
   "metadata": {},
   "source": [
    "parameter function"
   ]
  },
  {
   "cell_type": "code",
   "execution_count": 3,
   "id": "6c4f1487",
   "metadata": {},
   "outputs": [],
   "source": [
    "def cal_area(lenght):\n",
    "    area = lenght * lenght\n",
    "    print(area)"
   ]
  },
  {
   "cell_type": "code",
   "execution_count": 4,
   "id": "01f5d3c1",
   "metadata": {},
   "outputs": [
    {
     "name": "stdout",
     "output_type": "stream",
     "text": [
      "16\n"
     ]
    }
   ],
   "source": [
    "cal_area(4)"
   ]
  },
  {
   "cell_type": "markdown",
   "id": "2306f394",
   "metadata": {},
   "source": [
    "Functions: Assigning a default value to\n",
    "a parameter"
   ]
  },
  {
   "cell_type": "code",
   "execution_count": 5,
   "id": "815fa667",
   "metadata": {},
   "outputs": [],
   "source": [
    "def cal_area(lenght= 3):\n",
    "    area = lenght * lenght\n",
    "    print(area)"
   ]
  },
  {
   "cell_type": "code",
   "execution_count": 6,
   "id": "0a1934be",
   "metadata": {},
   "outputs": [
    {
     "name": "stdout",
     "output_type": "stream",
     "text": [
      "9\n"
     ]
    }
   ],
   "source": [
    "cal_area()"
   ]
  },
  {
   "cell_type": "code",
   "execution_count": 7,
   "id": "b7560517",
   "metadata": {},
   "outputs": [
    {
     "name": "stdout",
     "output_type": "stream",
     "text": [
      "25\n"
     ]
    }
   ],
   "source": [
    "cal_area(5)"
   ]
  },
  {
   "cell_type": "markdown",
   "id": "4516a28b",
   "metadata": {},
   "source": [
    "functions with more than 1 parameters"
   ]
  },
  {
   "cell_type": "code",
   "execution_count": 13,
   "id": "f8e6f110",
   "metadata": {},
   "outputs": [],
   "source": [
    "def cal_area(lenght, breath= 4, height= 5):\n",
    "    area_of_square = lenght * lenght\n",
    "    volume = lenght * breath * height\n",
    "    print(f\"area of square is {area_of_square} sq.km with lenght{lenght}\")\n",
    "    print(f\"volume is {volume}sq.km\")\n",
    "    \n",
    "    "
   ]
  },
  {
   "cell_type": "code",
   "execution_count": 14,
   "id": "9505c51f",
   "metadata": {},
   "outputs": [
    {
     "name": "stdout",
     "output_type": "stream",
     "text": [
      "area of square is 16 sq.km with lenght4\n",
      "volume is 192sq.km\n"
     ]
    }
   ],
   "source": [
    "cal_area(4, 6, 8)"
   ]
  },
  {
   "cell_type": "code",
   "execution_count": 15,
   "id": "87fc4d2f",
   "metadata": {},
   "outputs": [
    {
     "name": "stdout",
     "output_type": "stream",
     "text": [
      "area of square is 25 sq.km with lenght5\n",
      "volume is 100sq.km\n"
     ]
    }
   ],
   "source": [
    "cal_area(5)"
   ]
  },
  {
   "cell_type": "markdown",
   "id": "cf070cf7",
   "metadata": {},
   "source": [
    "Functions: Assigning a default value to a parameter with positional argument"
   ]
  },
  {
   "cell_type": "code",
   "execution_count": 16,
   "id": "05f07687",
   "metadata": {},
   "outputs": [],
   "source": [
    "def cal_area(lenght, breath= 4, height= 5):\n",
    "    area_of_square = lenght * lenght\n",
    "    volume = lenght * breath * height\n",
    "    print(f\"area of square is {area_of_square} sq.km with lenght{lenght}\")\n",
    "    print(f\"volume is {volume}sq.km\")\n",
    "    \n",
    "    "
   ]
  },
  {
   "cell_type": "code",
   "execution_count": 18,
   "id": "a9922cc4",
   "metadata": {},
   "outputs": [
    {
     "name": "stdout",
     "output_type": "stream",
     "text": [
      "Enter lenght: 6\n",
      "Enter breath: 9\n",
      "Enter height: 8\n",
      "area of square is 64 sq.km with lenght8\n",
      "volume is 432sq.km\n"
     ]
    }
   ],
   "source": [
    "l = int(input(\"Enter lenght: \"))\n",
    "b = int(input(\"Enter breath: \"))\n",
    "h = int(input(\"Enter height: \"))\n",
    "\n",
    "cal_area(h, l, b) # error & wrong value intersion"
   ]
  },
  {
   "cell_type": "code",
   "execution_count": 19,
   "id": "a4f95b1c",
   "metadata": {},
   "outputs": [
    {
     "name": "stdout",
     "output_type": "stream",
     "text": [
      "Enter lenght: 4\n",
      "Enter breath: 6\n",
      "Enter height: 7\n",
      "area of square is 16 sq.km with lenght4\n",
      "volume is 168sq.km\n"
     ]
    }
   ],
   "source": [
    "l = int(input(\"Enter lenght: \"))\n",
    "b = int(input(\"Enter breath: \"))\n",
    "h = int(input(\"Enter height: \"))\n",
    "\n",
    "cal_area(height=h, lenght=l, breath=b) "
   ]
  },
  {
   "cell_type": "markdown",
   "id": "c8c3c711",
   "metadata": {},
   "source": [
    "function with return keywords"
   ]
  },
  {
   "cell_type": "code",
   "execution_count": 20,
   "id": "263d030f",
   "metadata": {},
   "outputs": [],
   "source": [
    "def cal_area(lenght, breath= 4, height= 5):\n",
    "    area_of_square = lenght * lenght\n",
    "    volume = lenght * breath * height\n",
    "   # print(f\"area of square is {area_of_square} sq.km with lenght{lenght}\")\n",
    "    #print(f\"volume is {volume}sq.km\")\n",
    "    return area_of_square , volume\n",
    "    "
   ]
  },
  {
   "cell_type": "code",
   "execution_count": 21,
   "id": "b97e994d",
   "metadata": {},
   "outputs": [
    {
     "name": "stdout",
     "output_type": "stream",
     "text": [
      "Enter lenght: 5\n",
      "Enter breath: 6\n",
      "Enter height: 6\n"
     ]
    },
    {
     "data": {
      "text/plain": [
       "(25, 180)"
      ]
     },
     "execution_count": 21,
     "metadata": {},
     "output_type": "execute_result"
    }
   ],
   "source": [
    "l = int(input(\"Enter lenght: \"))\n",
    "b = int(input(\"Enter breath: \"))\n",
    "h = int(input(\"Enter height: \"))\n",
    "\n",
    "cal_area(height=h, lenght=l, breath=b) "
   ]
  },
  {
   "cell_type": "code",
   "execution_count": 22,
   "id": "f6d1651a",
   "metadata": {},
   "outputs": [
    {
     "name": "stdout",
     "output_type": "stream",
     "text": [
      "Enter lenght: 3\n",
      "Enter breath: 4\n",
      "Enter height: 4\n"
     ]
    }
   ],
   "source": [
    "l = int(input(\"Enter lenght: \"))\n",
    "b = int(input(\"Enter breath: \"))\n",
    "h = int(input(\"Enter height: \"))\n",
    "\n",
    "area, volume = cal_area(height=h, lenght=l, breath=b) "
   ]
  },
  {
   "cell_type": "code",
   "execution_count": 23,
   "id": "4943083e",
   "metadata": {},
   "outputs": [
    {
     "data": {
      "text/plain": [
       "9"
      ]
     },
     "execution_count": 23,
     "metadata": {},
     "output_type": "execute_result"
    }
   ],
   "source": [
    "area"
   ]
  },
  {
   "cell_type": "code",
   "execution_count": 24,
   "id": "1e7d6ea1",
   "metadata": {},
   "outputs": [
    {
     "data": {
      "text/plain": [
       "48"
      ]
     },
     "execution_count": 24,
     "metadata": {},
     "output_type": "execute_result"
    }
   ],
   "source": [
    "volume"
   ]
  },
  {
   "cell_type": "code",
   "execution_count": 1,
   "id": "28e6b7db",
   "metadata": {},
   "outputs": [],
   "source": [
    "def full_name():\n",
    "    first_name = input(\"Enter first name: \")\n",
    "    last_name = input(\"Enter last name: \")\n",
    "    print(f\" full_name is {first_name+last_name}\")"
   ]
  },
  {
   "cell_type": "code",
   "execution_count": 2,
   "id": "651bf1b0",
   "metadata": {},
   "outputs": [
    {
     "name": "stdout",
     "output_type": "stream",
     "text": [
      "Enter first name: Muhammad\n",
      "Enter last name: Muzammil\n",
      " full_name is MuhammadMuzammil\n"
     ]
    }
   ],
   "source": [
    "full_name()"
   ]
  },
  {
   "cell_type": "code",
   "execution_count": 5,
   "id": "7ec214b0",
   "metadata": {},
   "outputs": [],
   "source": [
    "def full_name(firstname, lastname):\n",
    "    print(f\" full_name is {firstname+lastname}\")"
   ]
  },
  {
   "cell_type": "code",
   "execution_count": 7,
   "id": "f7b76abd",
   "metadata": {},
   "outputs": [
    {
     "name": "stdout",
     "output_type": "stream",
     "text": [
      " full_name is MuhammadMuzammil\n"
     ]
    }
   ],
   "source": [
    "full_name(\"Muhammad\", \"Muzammil\")"
   ]
  },
  {
   "cell_type": "code",
   "execution_count": 9,
   "id": "28f8e1e7",
   "metadata": {},
   "outputs": [],
   "source": [
    "def full_name(firstname, lastname, middlename=\"\"):\n",
    "    print(f\" full_name is {firstname+ middlename+ lastname}\")"
   ]
  },
  {
   "cell_type": "code",
   "execution_count": 10,
   "id": "3cb01659",
   "metadata": {},
   "outputs": [
    {
     "name": "stdout",
     "output_type": "stream",
     "text": [
      " full_name is muhammadMuzammil\n"
     ]
    }
   ],
   "source": [
    "full_name(\"muhammad\", \"Muzammil\")"
   ]
  },
  {
   "cell_type": "code",
   "execution_count": 11,
   "id": "0067fc5f",
   "metadata": {},
   "outputs": [],
   "source": [
    "def full_name(firstname, lastname, middlename=\"\"):\n",
    "    return (f\" full_name is {firstname+ middlename+ lastname}\")"
   ]
  },
  {
   "cell_type": "code",
   "execution_count": 12,
   "id": "84a6b921",
   "metadata": {},
   "outputs": [
    {
     "data": {
      "text/plain": [
       "' full_name is muhammadMuzammil'"
      ]
     },
     "execution_count": 12,
     "metadata": {},
     "output_type": "execute_result"
    }
   ],
   "source": [
    "full_name(\"muhammad\", \"Muzammil\")"
   ]
  },
  {
   "cell_type": "code",
   "execution_count": 14,
   "id": "a71759b1",
   "metadata": {},
   "outputs": [
    {
     "data": {
      "text/plain": [
       "' full_name is Muhammadmuzammilsohail'"
      ]
     },
     "execution_count": 14,
     "metadata": {},
     "output_type": "execute_result"
    }
   ],
   "source": [
    "full_name(firstname= \"Muhammad\",middlename= \"muzammil\", lastname= \"sohail\")"
   ]
  }
 ],
 "metadata": {
  "kernelspec": {
   "display_name": "Python 3 (ipykernel)",
   "language": "python",
   "name": "python3"
  },
  "language_info": {
   "codemirror_mode": {
    "name": "ipython",
    "version": 3
   },
   "file_extension": ".py",
   "mimetype": "text/x-python",
   "name": "python",
   "nbconvert_exporter": "python",
   "pygments_lexer": "ipython3",
   "version": "3.11.5"
  }
 },
 "nbformat": 4,
 "nbformat_minor": 5
}
