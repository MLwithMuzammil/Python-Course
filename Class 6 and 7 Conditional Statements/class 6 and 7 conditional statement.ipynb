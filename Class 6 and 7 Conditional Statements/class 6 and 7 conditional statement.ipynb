{
 "cells": [
  {
   "cell_type": "markdown",
   "id": "f9aefe7e",
   "metadata": {},
   "source": [
    "if statements"
   ]
  },
  {
   "cell_type": "code",
   "execution_count": 4,
   "id": "607a4e6c",
   "metadata": {},
   "outputs": [],
   "source": [
    "chutti = False"
   ]
  },
  {
   "cell_type": "code",
   "execution_count": 15,
   "id": "cb4785ee",
   "metadata": {},
   "outputs": [
    {
     "name": "stdout",
     "output_type": "stream",
     "text": [
      "out of body\n"
     ]
    }
   ],
   "source": [
    "if chutti:\n",
    "    print(\"today is off - happy new year\")\n",
    "print(\"out of body\")"
   ]
  },
  {
   "cell_type": "code",
   "execution_count": 1,
   "id": "b236e92f",
   "metadata": {},
   "outputs": [],
   "source": [
    "chutti = False"
   ]
  },
  {
   "cell_type": "code",
   "execution_count": 2,
   "id": "f5962979",
   "metadata": {},
   "outputs": [
    {
     "name": "stdout",
     "output_type": "stream",
     "text": [
      "pakistan\n"
     ]
    }
   ],
   "source": [
    "if chutti:\n",
    "    print(\"today is off\")\n",
    "else:\n",
    "    print(\"pakistan\")"
   ]
  },
  {
   "cell_type": "code",
   "execution_count": 15,
   "id": "b233c969",
   "metadata": {},
   "outputs": [
    {
     "name": "stdout",
     "output_type": "stream",
     "text": [
      "mehmood is happy for conutry\n",
      "its fine for mehmood\n"
     ]
    }
   ],
   "source": [
    "country = \"turkey\"\n",
    "height = 6\n",
    "if country != \"pakistan\":\n",
    "    print(\"mehmood is happy for conutry\")\n",
    "    if height <5:\n",
    "        print(\"mehmood is not happy  for height\")\n",
    "    else:\n",
    "        print(\"its fine for mehmood\")\n",
    "else:\n",
    "    print(\"mehmood is sad\")"
   ]
  },
  {
   "cell_type": "code",
   "execution_count": 16,
   "id": "40c656eb",
   "metadata": {},
   "outputs": [
    {
     "name": "stdout",
     "output_type": "stream",
     "text": [
      "mehmood is happy for conutry\n",
      "its fine for mehmood\n"
     ]
    }
   ],
   "source": [
    "if country != \"pakistan\": # ! nahi ha = ha\n",
    "    print(\"mehmood is happy for conutry\")\n",
    "    if height <5:\n",
    "        print(\"mehmood is not happy  for height\")\n",
    "    else:\n",
    "        print(\"its fine for mehmood\")\n",
    "else:\n",
    "    print(\"mehmood is sad\")"
   ]
  },
  {
   "cell_type": "markdown",
   "id": "2a4be3dd",
   "metadata": {},
   "source": [
    "comparision operators"
   ]
  },
  {
   "cell_type": "code",
   "execution_count": 17,
   "id": "c0f60354",
   "metadata": {},
   "outputs": [
    {
     "data": {
      "text/plain": [
       "False"
      ]
     },
     "execution_count": 17,
     "metadata": {},
     "output_type": "execute_result"
    }
   ],
   "source": [
    "2 + 2 ==5 # \"==\"equality operator"
   ]
  },
  {
   "cell_type": "code",
   "execution_count": 19,
   "id": "970915d4",
   "metadata": {},
   "outputs": [
    {
     "data": {
      "text/plain": [
       "True"
      ]
     },
     "execution_count": 19,
     "metadata": {},
     "output_type": "execute_result"
    }
   ],
   "source": [
    "2 + 2 ==4"
   ]
  },
  {
   "cell_type": "code",
   "execution_count": 21,
   "id": "195c3ffc",
   "metadata": {},
   "outputs": [
    {
     "data": {
      "text/plain": [
       "True"
      ]
     },
     "execution_count": 21,
     "metadata": {},
     "output_type": "execute_result"
    }
   ],
   "source": [
    "\"cat\" ==\"cat\""
   ]
  },
  {
   "cell_type": "code",
   "execution_count": 22,
   "id": "c1d7dfbe",
   "metadata": {},
   "outputs": [
    {
     "data": {
      "text/plain": [
       "False"
      ]
     },
     "execution_count": 22,
     "metadata": {},
     "output_type": "execute_result"
    }
   ],
   "source": [
    "\"dog\" ==\"cat\""
   ]
  },
  {
   "cell_type": "code",
   "execution_count": 23,
   "id": "c05bc5f5",
   "metadata": {},
   "outputs": [
    {
     "data": {
      "text/plain": [
       "False"
      ]
     },
     "execution_count": 23,
     "metadata": {},
     "output_type": "execute_result"
    }
   ],
   "source": [
    "\"CAT\" ==\"cat\""
   ]
  },
  {
   "cell_type": "code",
   "execution_count": 25,
   "id": "4854d3cc",
   "metadata": {},
   "outputs": [
    {
     "data": {
      "text/plain": [
       "True"
      ]
     },
     "execution_count": 25,
     "metadata": {},
     "output_type": "execute_result"
    }
   ],
   "source": [
    "2 + 2 != 5 # ! nahi "
   ]
  },
  {
   "cell_type": "code",
   "execution_count": 26,
   "id": "d64f14be",
   "metadata": {},
   "outputs": [
    {
     "data": {
      "text/plain": [
       "True"
      ]
     },
     "execution_count": 26,
     "metadata": {},
     "output_type": "execute_result"
    }
   ],
   "source": [
    "3 > 2"
   ]
  },
  {
   "cell_type": "code",
   "execution_count": 27,
   "id": "c0c54697",
   "metadata": {},
   "outputs": [
    {
     "data": {
      "text/plain": [
       "False"
      ]
     },
     "execution_count": 27,
     "metadata": {},
     "output_type": "execute_result"
    }
   ],
   "source": [
    "3 < 2"
   ]
  },
  {
   "cell_type": "code",
   "execution_count": 31,
   "id": "29827477",
   "metadata": {},
   "outputs": [
    {
     "data": {
      "text/plain": [
       "True"
      ]
     },
     "execution_count": 31,
     "metadata": {},
     "output_type": "execute_result"
    }
   ],
   "source": [
    "3 <= 6"
   ]
  },
  {
   "cell_type": "code",
   "execution_count": 32,
   "id": "b7dc4725",
   "metadata": {},
   "outputs": [
    {
     "data": {
      "text/plain": [
       "False"
      ]
     },
     "execution_count": 32,
     "metadata": {},
     "output_type": "execute_result"
    }
   ],
   "source": [
    "3 >= 6"
   ]
  },
  {
   "cell_type": "code",
   "execution_count": null,
   "id": "228dc800",
   "metadata": {},
   "outputs": [],
   "source": []
  }
 ],
 "metadata": {
  "kernelspec": {
   "display_name": "Python 3 (ipykernel)",
   "language": "python",
   "name": "python3"
  },
  "language_info": {
   "codemirror_mode": {
    "name": "ipython",
    "version": 3
   },
   "file_extension": ".py",
   "mimetype": "text/x-python",
   "name": "python",
   "nbconvert_exporter": "python",
   "pygments_lexer": "ipython3",
   "version": "3.11.5"
  }
 },
 "nbformat": 4,
 "nbformat_minor": 5
}
