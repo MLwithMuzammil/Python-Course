{
 "cells": [
  {
   "cell_type": "markdown",
   "id": "9b839930",
   "metadata": {},
   "source": [
    "Concatenating text strings"
   ]
  },
  {
   "cell_type": "code",
   "execution_count": 1,
   "id": "acdd19ef",
   "metadata": {},
   "outputs": [],
   "source": [
    "f_name = \"muhammmad\""
   ]
  },
  {
   "cell_type": "code",
   "execution_count": 2,
   "id": "11608eb5",
   "metadata": {},
   "outputs": [],
   "source": [
    "l_name = \"muzammil\""
   ]
  },
  {
   "cell_type": "code",
   "execution_count": 3,
   "id": "bd1c6083",
   "metadata": {},
   "outputs": [
    {
     "name": "stdout",
     "output_type": "stream",
     "text": [
      "muhammmadmuzammil\n"
     ]
    }
   ],
   "source": [
    "full_name = f_name + l_name\n",
    "print(full_name)"
   ]
  },
  {
   "cell_type": "code",
   "execution_count": 4,
   "id": "5df63963",
   "metadata": {},
   "outputs": [
    {
     "name": "stdout",
     "output_type": "stream",
     "text": [
      "muhammmad muzammil\n"
     ]
    }
   ],
   "source": [
    "full_name = f_name+\" \"+l_name\n",
    "print(full_name)"
   ]
  },
  {
   "cell_type": "code",
   "execution_count": 6,
   "id": "02a3578f",
   "metadata": {},
   "outputs": [
    {
     "name": "stdout",
     "output_type": "stream",
     "text": [
      "Hello, World!\n"
     ]
    }
   ],
   "source": [
    "greeting = \"Hello\"\n",
    "separators = \", \"\n",
    "addressee = \"World\"\n",
    "punc = \"!\"\n",
    "whole_greeting = greeting + separators + addressee + punc\n",
    "print(whole_greeting)\n"
   ]
  },
  {
   "cell_type": "markdown",
   "id": "0807c52b",
   "metadata": {},
   "source": [
    "Method 2\n"
   ]
  },
  {
   "cell_type": "code",
   "execution_count": 7,
   "id": "fb612cea",
   "metadata": {},
   "outputs": [
    {
     "data": {
      "text/plain": [
       "'muhammmad muzammil'"
      ]
     },
     "execution_count": 7,
     "metadata": {},
     "output_type": "execute_result"
    }
   ],
   "source": [
    "f\"{f_name} {l_name}\""
   ]
  },
  {
   "cell_type": "code",
   "execution_count": 8,
   "id": "4308bdc8",
   "metadata": {},
   "outputs": [
    {
     "name": "stdout",
     "output_type": "stream",
     "text": [
      "muhammmad muzammil\n"
     ]
    }
   ],
   "source": [
    "print(f\"{f_name} {l_name}\")"
   ]
  },
  {
   "cell_type": "code",
   "execution_count": 9,
   "id": "6b3353ff",
   "metadata": {},
   "outputs": [
    {
     "name": "stdout",
     "output_type": "stream",
     "text": [
      "muhammmad muzammil\n"
     ]
    }
   ],
   "source": [
    "pora_name = f\"{f_name} {l_name}\"\n",
    "print(pora_name)"
   ]
  },
  {
   "cell_type": "code",
   "execution_count": 10,
   "id": "4bd634c2",
   "metadata": {},
   "outputs": [
    {
     "name": "stdout",
     "output_type": "stream",
     "text": [
      "pora name ha mera => muhammmad muzammil\n"
     ]
    }
   ],
   "source": [
    "print(f\"pora name ha mera => {f_name} {l_name}\")"
   ]
  },
  {
   "cell_type": "code",
   "execution_count": null,
   "id": "178b38fe",
   "metadata": {},
   "outputs": [],
   "source": []
  }
 ],
 "metadata": {
  "kernelspec": {
   "display_name": "Python 3 (ipykernel)",
   "language": "python",
   "name": "python3"
  },
  "language_info": {
   "codemirror_mode": {
    "name": "ipython",
    "version": 3
   },
   "file_extension": ".py",
   "mimetype": "text/x-python",
   "name": "python",
   "nbconvert_exporter": "python",
   "pygments_lexer": "ipython3",
   "version": "3.11.5"
  }
 },
 "nbformat": 4,
 "nbformat_minor": 5
}
