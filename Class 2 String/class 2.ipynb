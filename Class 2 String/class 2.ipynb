{
 "cells": [
  {
   "cell_type": "code",
   "execution_count": 1,
   "id": "4c61746b",
   "metadata": {},
   "outputs": [
    {
     "name": "stdout",
     "output_type": "stream",
     "text": [
      "Hello World\n"
     ]
    }
   ],
   "source": [
    "print(\"Hello World\")"
   ]
  },
  {
   "cell_type": "code",
   "execution_count": 2,
   "id": "d36f6696",
   "metadata": {},
   "outputs": [
    {
     "name": "stdout",
     "output_type": "stream",
     "text": [
      "Hello World\n"
     ]
    }
   ],
   "source": [
    "print('Hello World')"
   ]
  },
  {
   "cell_type": "code",
   "execution_count": 3,
   "id": "86ee4b71",
   "metadata": {},
   "outputs": [
    {
     "name": "stdout",
     "output_type": "stream",
     "text": [
      "Hello , World\n"
     ]
    }
   ],
   "source": [
    "print(\"Hello , World\")"
   ]
  },
  {
   "cell_type": "code",
   "execution_count": 4,
   "id": "93b54a33",
   "metadata": {},
   "outputs": [],
   "source": [
    "name = \"Muzammil\""
   ]
  },
  {
   "cell_type": "code",
   "execution_count": 5,
   "id": "b3ca3ef3",
   "metadata": {},
   "outputs": [
    {
     "data": {
      "text/plain": [
       "'Muzammil'"
      ]
     },
     "execution_count": 5,
     "metadata": {},
     "output_type": "execute_result"
    }
   ],
   "source": [
    "name"
   ]
  },
  {
   "cell_type": "code",
   "execution_count": 6,
   "id": "aa5645a4",
   "metadata": {},
   "outputs": [
    {
     "name": "stdout",
     "output_type": "stream",
     "text": [
      "Muzammil\n"
     ]
    }
   ],
   "source": [
    "print(name)"
   ]
  },
  {
   "cell_type": "code",
   "execution_count": 7,
   "id": "3ce4f5a5",
   "metadata": {},
   "outputs": [],
   "source": [
    "first_name = \"Muhammad\"\n",
    "Last_name = \"Muzammil\""
   ]
  },
  {
   "cell_type": "code",
   "execution_count": 8,
   "id": "25b2f504",
   "metadata": {},
   "outputs": [
    {
     "data": {
      "text/plain": [
       "'Muhammad'"
      ]
     },
     "execution_count": 8,
     "metadata": {},
     "output_type": "execute_result"
    }
   ],
   "source": [
    "first_name"
   ]
  },
  {
   "cell_type": "code",
   "execution_count": 9,
   "id": "b98e3cf3",
   "metadata": {},
   "outputs": [
    {
     "data": {
      "text/plain": [
       "'Muzammil'"
      ]
     },
     "execution_count": 9,
     "metadata": {},
     "output_type": "execute_result"
    }
   ],
   "source": [
    "Last_name"
   ]
  }
 ],
 "metadata": {
  "kernelspec": {
   "display_name": "Python 3 (ipykernel)",
   "language": "python",
   "name": "python3"
  },
  "language_info": {
   "codemirror_mode": {
    "name": "ipython",
    "version": 3
   },
   "file_extension": ".py",
   "mimetype": "text/x-python",
   "name": "python",
   "nbconvert_exporter": "python",
   "pygments_lexer": "ipython3",
   "version": "3.11.5"
  }
 },
 "nbformat": 4,
 "nbformat_minor": 5
}
