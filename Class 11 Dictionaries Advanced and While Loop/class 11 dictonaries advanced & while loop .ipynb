{
 "cells": [
  {
   "cell_type": "code",
   "execution_count": 1,
   "id": "50629490",
   "metadata": {},
   "outputs": [
    {
     "data": {
      "text/plain": [
       "<function dict.update>"
      ]
     },
     "execution_count": 1,
     "metadata": {},
     "output_type": "execute_result"
    }
   ],
   "source": [
    "{}.update"
   ]
  },
  {
   "cell_type": "code",
   "execution_count": 2,
   "id": "e0eee026",
   "metadata": {},
   "outputs": [],
   "source": [
    "data = {\"first_name\":\"muhmmad\", \"last_name\": \"muhammad\"}"
   ]
  },
  {
   "cell_type": "code",
   "execution_count": 5,
   "id": "55d1288c",
   "metadata": {},
   "outputs": [],
   "source": [
    "data.update({\"age\":\"23\"})# adding \\ updating"
   ]
  },
  {
   "cell_type": "code",
   "execution_count": 6,
   "id": "16a6a082",
   "metadata": {},
   "outputs": [
    {
     "data": {
      "text/plain": [
       "{'first_name': 'muhmmad', 'last_name': 'muhammad', 'age': '23'}"
      ]
     },
     "execution_count": 6,
     "metadata": {},
     "output_type": "execute_result"
    }
   ],
   "source": [
    "data"
   ]
  },
  {
   "cell_type": "code",
   "execution_count": 7,
   "id": "a3eb6a95",
   "metadata": {},
   "outputs": [],
   "source": [
    "customers = [\n",
    "            {\"customer id\": 0,\n",
    "             \"first name\":\"John\",\n",
    "             \"last name\": \"Ogden\",\n",
    "             \"address\": \"301 Arbor Rd.\",},\n",
    "            {\"customer id\": 1,\n",
    "            \"first name\":\"Ann\",\n",
    "\"last name\": \"Sattermyer\",\"address\": \"PO Box 1145\"}]"
   ]
  },
  {
   "cell_type": "code",
   "execution_count": 8,
   "id": "12943451",
   "metadata": {},
   "outputs": [
    {
     "data": {
      "text/plain": [
       "[{'customer id': 0,\n",
       "  'first name': 'John',\n",
       "  'last name': 'Ogden',\n",
       "  'address': '301 Arbor Rd.'},\n",
       " {'customer id': 1,\n",
       "  'first name': 'Ann',\n",
       "  'last name': 'Sattermyer',\n",
       "  'address': 'PO Box 1145'}]"
      ]
     },
     "execution_count": 8,
     "metadata": {},
     "output_type": "execute_result"
    }
   ],
   "source": [
    "customers"
   ]
  },
  {
   "cell_type": "code",
   "execution_count": 9,
   "id": "a7dce1a7",
   "metadata": {},
   "outputs": [
    {
     "data": {
      "text/plain": [
       "{'customer id': 1,\n",
       " 'first name': 'Ann',\n",
       " 'last name': 'Sattermyer',\n",
       " 'address': 'PO Box 1145'}"
      ]
     },
     "execution_count": 9,
     "metadata": {},
     "output_type": "execute_result"
    }
   ],
   "source": [
    "customers[1]"
   ]
  },
  {
   "cell_type": "code",
   "execution_count": 10,
   "id": "37d2ba7e",
   "metadata": {},
   "outputs": [
    {
     "data": {
      "text/plain": [
       "'Ann'"
      ]
     },
     "execution_count": 10,
     "metadata": {},
     "output_type": "execute_result"
    }
   ],
   "source": [
    "customers[1][\"first name\"]"
   ]
  },
  {
   "cell_type": "code",
   "execution_count": 11,
   "id": "b5fb4eb3",
   "metadata": {},
   "outputs": [],
   "source": [
    "new_customer ={\n",
    "\"customer id\": 2,\n",
    "\"first name\":\"Jill\",\n",
    "\"last name\": \"Somers\",\n",
    "\"address\": \"3 Main St.\",\n",
    "}"
   ]
  },
  {
   "cell_type": "code",
   "execution_count": 12,
   "id": "88bf2d5a",
   "metadata": {},
   "outputs": [],
   "source": [
    "customers.append(new_customer)"
   ]
  },
  {
   "cell_type": "code",
   "execution_count": 13,
   "id": "9c12bd1a",
   "metadata": {},
   "outputs": [
    {
     "data": {
      "text/plain": [
       "[{'customer id': 0,\n",
       "  'first name': 'John',\n",
       "  'last name': 'Ogden',\n",
       "  'address': '301 Arbor Rd.'},\n",
       " {'customer id': 1,\n",
       "  'first name': 'Ann',\n",
       "  'last name': 'Sattermyer',\n",
       "  'address': 'PO Box 1145'},\n",
       " {'customer id': 2,\n",
       "  'first name': 'Jill',\n",
       "  'last name': 'Somers',\n",
       "  'address': '3 Main St.'}]"
      ]
     },
     "execution_count": 13,
     "metadata": {},
     "output_type": "execute_result"
    }
   ],
   "source": [
    "customers"
   ]
  },
  {
   "cell_type": "code",
   "execution_count": 16,
   "id": "17560fa9",
   "metadata": {},
   "outputs": [],
   "source": [
    "customers =[{'customer id': 0,\n",
    "  'first name': 'John',\n",
    "  'last name': 'Ogden',\n",
    "  'address': '301 Arbor Rd.',\n",
    "  \"discounts\": [\"standard\", \"volume\", \"loyalty\"] },\n",
    " {'customer id': 1,\n",
    "  'first name': 'Ann',\n",
    "  'last name': 'Sattermyer',\n",
    "  'address': 'PO Box 1145',\"discounts\":[]},\n",
    " {'customer id': 2,\n",
    "  'first name': 'Jill',\n",
    "  'last name': 'Somers',\n",
    "  'address': '3 Main St.',\"discounts\":[\"standard\"]}]"
   ]
  },
  {
   "cell_type": "code",
   "execution_count": 17,
   "id": "75e4c2ef",
   "metadata": {},
   "outputs": [
    {
     "data": {
      "text/plain": [
       "[{'customer id': 0,\n",
       "  'first name': 'John',\n",
       "  'last name': 'Ogden',\n",
       "  'address': '301 Arbor Rd.',\n",
       "  'discounts': ['standard', 'volume', 'loyalty']},\n",
       " {'customer id': 1,\n",
       "  'first name': 'Ann',\n",
       "  'last name': 'Sattermyer',\n",
       "  'address': 'PO Box 1145',\n",
       "  'discounts': []},\n",
       " {'customer id': 2,\n",
       "  'first name': 'Jill',\n",
       "  'last name': 'Somers',\n",
       "  'address': '3 Main St.',\n",
       "  'discounts': ['standard']}]"
      ]
     },
     "execution_count": 17,
     "metadata": {},
     "output_type": "execute_result"
    }
   ],
   "source": [
    "customers"
   ]
  },
  {
   "cell_type": "code",
   "execution_count": 18,
   "id": "8e9bd8f8",
   "metadata": {},
   "outputs": [
    {
     "data": {
      "text/plain": [
       "['standard']"
      ]
     },
     "execution_count": 18,
     "metadata": {},
     "output_type": "execute_result"
    }
   ],
   "source": [
    "customers[2][\"discounts\"]"
   ]
  },
  {
   "cell_type": "code",
   "execution_count": 2,
   "id": "6902a076",
   "metadata": {},
   "outputs": [],
   "source": [
    "customers =[{'customer id': 0,\n",
    "  'first name': 'John',\n",
    "  'last name': 'Ogden',\n",
    "  'address': '301 Arbor Rd.',\n",
    "  \"discounts\": [\"standard\", \"volume\", \"loyalty\"] },\n",
    " {'customer id': 1,\n",
    "  'first name': 'Ann',\n",
    "  'last name': 'Sattermyer',\n",
    "  'address': 'PO Box 1145',\"discounts\":[]},\n",
    " {'customer id': 2,\n",
    "  'first name': 'Jill',\n",
    "  'last name': 'Somers',\n",
    "  'address': '3 Main St.',\"discounts\":[\"standard\"]}]"
   ]
  },
  {
   "cell_type": "code",
   "execution_count": 11,
   "id": "df69a349",
   "metadata": {},
   "outputs": [
    {
     "name": "stdout",
     "output_type": "stream",
     "text": [
      "[5, 10, 15]\n",
      "====\n",
      "[]\n",
      "====\n",
      "[5]\n",
      "====\n"
     ]
    }
   ],
   "source": [
    "for customer in customers:\n",
    "    discounted_per =[]\n",
    "    if len(customer[\"discounts\"]) >=1:\n",
    "        for discount in customer[\"discounts\"]:\n",
    "            if discount == \"standard\":\n",
    "                discounted_perc = 5\n",
    "            elif discount == \"volume\":\n",
    "                discounted_perc = 10\n",
    "            elif discount == \"loyalty\":\n",
    "                discounted_perc = 15\n",
    "            else:\n",
    "                discounted_perc = \"error\"\n",
    "            discounted_per.append(discounted_perc)\n",
    "    print(discounted_per)\n",
    "    customer.update({\"discounted_percent\": discounted_per})\n",
    "    print(\"====\")\n",
    "                \n",
    "    customers            "
   ]
  },
  {
   "cell_type": "code",
   "execution_count": 9,
   "id": "61dbbe60",
   "metadata": {},
   "outputs": [
    {
     "data": {
      "text/plain": [
       "[{'customer id': 0,\n",
       "  'first name': 'John',\n",
       "  'last name': 'Ogden',\n",
       "  'address': '301 Arbor Rd.',\n",
       "  'discounts': ['standard', 'volume', 'loyalty'],\n",
       "  'discounted_percent': [5, 10, 15]},\n",
       " {'customer id': 1,\n",
       "  'first name': 'Ann',\n",
       "  'last name': 'Sattermyer',\n",
       "  'address': 'PO Box 1145',\n",
       "  'discounts': [],\n",
       "  'discounted_percent': []},\n",
       " {'customer id': 2,\n",
       "  'first name': 'Jill',\n",
       "  'last name': 'Somers',\n",
       "  'address': '3 Main St.',\n",
       "  'discounts': ['standard'],\n",
       "  'discounted_percent': [5]}]"
      ]
     },
     "execution_count": 9,
     "metadata": {},
     "output_type": "execute_result"
    }
   ],
   "source": [
    "customers"
   ]
  },
  {
   "cell_type": "code",
   "execution_count": null,
   "id": "87cfc58b",
   "metadata": {},
   "outputs": [],
   "source": []
  },
  {
   "cell_type": "code",
   "execution_count": null,
   "id": "bdbedb07",
   "metadata": {},
   "outputs": [],
   "source": []
  }
 ],
 "metadata": {
  "kernelspec": {
   "display_name": "Python 3 (ipykernel)",
   "language": "python",
   "name": "python3"
  },
  "language_info": {
   "codemirror_mode": {
    "name": "ipython",
    "version": 3
   },
   "file_extension": ".py",
   "mimetype": "text/x-python",
   "name": "python",
   "nbconvert_exporter": "python",
   "pygments_lexer": "ipython3",
   "version": "3.11.5"
  }
 },
 "nbformat": 4,
 "nbformat_minor": 5
}
