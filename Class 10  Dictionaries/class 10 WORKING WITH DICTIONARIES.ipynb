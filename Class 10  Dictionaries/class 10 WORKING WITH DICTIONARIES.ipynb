{
 "cells": [
  {
   "cell_type": "code",
   "execution_count": 1,
   "id": "e4da9785",
   "metadata": {},
   "outputs": [],
   "source": [
    "var = \"madam\" # palyndrome"
   ]
  },
  {
   "cell_type": "code",
   "execution_count": 2,
   "id": "261895bc",
   "metadata": {},
   "outputs": [
    {
     "data": {
      "text/plain": [
       "True"
      ]
     },
     "execution_count": 2,
     "metadata": {},
     "output_type": "execute_result"
    }
   ],
   "source": [
    "var == var[::-1]"
   ]
  },
  {
   "cell_type": "markdown",
   "id": "2bf6b2a6",
   "metadata": {},
   "source": [
    "1 dictionaries"
   ]
  },
  {
   "cell_type": "code",
   "execution_count": 7,
   "id": "25369652",
   "metadata": {},
   "outputs": [],
   "source": [
    "customer1_dict ={\"first_name\" : \"muhammad\",\n",
    "                \"last_name\" : \"muzammil\",\n",
    "                \"phone_number\" : '03116500689',\n",
    "                \"weight\" : 50,\n",
    "                \"age\" : 21}\n",
    "                   \n",
    "                  \n",
    "                 "
   ]
  },
  {
   "cell_type": "code",
   "execution_count": 8,
   "id": "a0b18579",
   "metadata": {},
   "outputs": [
    {
     "data": {
      "text/plain": [
       "{'first_name': 'muhammad',\n",
       " 'last_name': 'muzammil',\n",
       " 'phone_number': '03116500689',\n",
       " 'weight': 50,\n",
       " 'age': 21}"
      ]
     },
     "execution_count": 8,
     "metadata": {},
     "output_type": "execute_result"
    }
   ],
   "source": [
    "customer1_dict"
   ]
  },
  {
   "cell_type": "code",
   "execution_count": 12,
   "id": "c120bcd3",
   "metadata": {},
   "outputs": [],
   "source": [
    "del(customer1_dict[\"phone_number\"]) # for deleleting"
   ]
  },
  {
   "cell_type": "code",
   "execution_count": 13,
   "id": "5e2cc6fd",
   "metadata": {},
   "outputs": [
    {
     "data": {
      "text/plain": [
       "{'first_name': 'muhammad', 'last_name': 'muzammil', 'weight': 50, 'age': 21}"
      ]
     },
     "execution_count": 13,
     "metadata": {},
     "output_type": "execute_result"
    }
   ],
   "source": [
    "customer1_dict"
   ]
  },
  {
   "cell_type": "code",
   "execution_count": 14,
   "id": "8008cd61",
   "metadata": {},
   "outputs": [],
   "source": [
    "customer1_dict['phone_number'] = \"03116500789\" # for adding"
   ]
  },
  {
   "cell_type": "code",
   "execution_count": 15,
   "id": "54d40cd4",
   "metadata": {},
   "outputs": [
    {
     "data": {
      "text/plain": [
       "{'first_name': 'muhammad',\n",
       " 'last_name': 'muzammil',\n",
       " 'weight': 50,\n",
       " 'age': 21,\n",
       " 'phone_number': '03116500789'}"
      ]
     },
     "execution_count": 15,
     "metadata": {},
     "output_type": "execute_result"
    }
   ],
   "source": [
    "customer1_dict"
   ]
  },
  {
   "cell_type": "code",
   "execution_count": 16,
   "id": "564aa21e",
   "metadata": {},
   "outputs": [
    {
     "data": {
      "text/plain": [
       "dict_items([('first_name', 'muhammad'), ('last_name', 'muzammil'), ('weight', 50), ('age', 21), ('phone_number', '03116500789')])"
      ]
     },
     "execution_count": 16,
     "metadata": {},
     "output_type": "execute_result"
    }
   ],
   "source": [
    "customer1_dict.items() # to convert dict to list of tuples"
   ]
  },
  {
   "cell_type": "code",
   "execution_count": 17,
   "id": "57cd4c5a",
   "metadata": {},
   "outputs": [
    {
     "name": "stdout",
     "output_type": "stream",
     "text": [
      "first_name --> muhammad\n",
      "last_name --> muzammil\n",
      "weight --> 50\n",
      "age --> 21\n",
      "phone_number --> 03116500789\n"
     ]
    }
   ],
   "source": [
    "for key, value in customer1_dict.items():\n",
    "    print(f'{key} --> {value}')"
   ]
  },
  {
   "cell_type": "code",
   "execution_count": 18,
   "id": "064377a1",
   "metadata": {},
   "outputs": [
    {
     "name": "stdout",
     "output_type": "stream",
     "text": [
      "first_name\n",
      "last_name\n",
      "weight\n",
      "age\n",
      "phone_number\n"
     ]
    }
   ],
   "source": [
    "for key in customer1_dict.keys():\n",
    "    print(f'{key}')"
   ]
  },
  {
   "cell_type": "code",
   "execution_count": 20,
   "id": "86927817",
   "metadata": {},
   "outputs": [
    {
     "name": "stdout",
     "output_type": "stream",
     "text": [
      "muhammad\n",
      "muzammil\n",
      "50\n",
      "21\n",
      "03116500789\n"
     ]
    }
   ],
   "source": [
    "for values in customer1_dict.values():\n",
    "    print(f\"{values}\")"
   ]
  },
  {
   "cell_type": "code",
   "execution_count": 23,
   "id": "43a489f5",
   "metadata": {},
   "outputs": [
    {
     "data": {
      "text/plain": [
       "'muhammad'"
      ]
     },
     "execution_count": 23,
     "metadata": {},
     "output_type": "execute_result"
    }
   ],
   "source": [
    "customer1_dict.get(\"first_name\")"
   ]
  },
  {
   "cell_type": "code",
   "execution_count": 24,
   "id": "d3333154",
   "metadata": {},
   "outputs": [
    {
     "data": {
      "text/plain": [
       "'no address found'"
      ]
     },
     "execution_count": 24,
     "metadata": {},
     "output_type": "execute_result"
    }
   ],
   "source": [
    "customer1_dict.get(\"address\" , \"no address found\")"
   ]
  },
  {
   "cell_type": "code",
   "execution_count": 25,
   "id": "94676aba",
   "metadata": {},
   "outputs": [
    {
     "data": {
      "text/plain": [
       "'muzammil'"
      ]
     },
     "execution_count": 25,
     "metadata": {},
     "output_type": "execute_result"
    }
   ],
   "source": [
    "customer1_dict.get(\"last_name\" , \"not available\")"
   ]
  },
  {
   "cell_type": "code",
   "execution_count": 26,
   "id": "046a6b09",
   "metadata": {},
   "outputs": [
    {
     "data": {
      "text/plain": [
       "{'f': 'muzammil',\n",
       " 'i': 'muzammil',\n",
       " 'r': 'muzammil',\n",
       " 's': 'muzammil',\n",
       " 't': 'muzammil',\n",
       " '_': 'muzammil',\n",
       " 'n': 'muzammil',\n",
       " 'a': 'muzammil',\n",
       " 'm': 'muzammil',\n",
       " 'e': 'muzammil'}"
      ]
     },
     "execution_count": 26,
     "metadata": {},
     "output_type": "execute_result"
    }
   ],
   "source": [
    "customer1_dict.fromkeys(\"first_name\" , \"muzammil\")"
   ]
  },
  {
   "cell_type": "code",
   "execution_count": 39,
   "id": "7443ee97",
   "metadata": {},
   "outputs": [],
   "source": [
    "self_dict= {\"Name\" : 'Muhammad_Muammil',\n",
    "            \"Father_Name\" : \"Muhammad_Sohail\",\n",
    "            \"CNIC\" : \"34566677777\",\n",
    "            \"AGE\" : 21}"
   ]
  },
  {
   "cell_type": "code",
   "execution_count": 40,
   "id": "1d640820",
   "metadata": {},
   "outputs": [
    {
     "data": {
      "text/plain": [
       "{'Name': 'Muhammad_Muammil',\n",
       " 'Father_Name': 'Muhammad_Sohail',\n",
       " 'CNIC': '34566677777',\n",
       " 'AGE': 21}"
      ]
     },
     "execution_count": 40,
     "metadata": {},
     "output_type": "execute_result"
    }
   ],
   "source": [
    "self_dict"
   ]
  },
  {
   "cell_type": "code",
   "execution_count": 44,
   "id": "a2e18233",
   "metadata": {},
   "outputs": [],
   "source": [
    "self_dict[\"course\"] = \"python programming\""
   ]
  },
  {
   "cell_type": "code",
   "execution_count": 45,
   "id": "bc6f883f",
   "metadata": {},
   "outputs": [
    {
     "data": {
      "text/plain": [
       "{'Name': 'Muhammad_Muammil',\n",
       " 'Father_Name': 'Muhammad_Sohail',\n",
       " 'CNIC': '34566677777',\n",
       " 'AGE': 21,\n",
       " 'course': 'python programming'}"
      ]
     },
     "execution_count": 45,
     "metadata": {},
     "output_type": "execute_result"
    }
   ],
   "source": [
    "self_dict"
   ]
  },
  {
   "cell_type": "code",
   "execution_count": 47,
   "id": "fdc5139d",
   "metadata": {},
   "outputs": [],
   "source": [
    "del (self_dict[\"AGE\"])"
   ]
  },
  {
   "cell_type": "code",
   "execution_count": 48,
   "id": "0499cf18",
   "metadata": {},
   "outputs": [
    {
     "data": {
      "text/plain": [
       "{'Name': 'Muhammad_Muammil',\n",
       " 'Father_Name': 'Muhammad_Sohail',\n",
       " 'CNIC': '34566677777',\n",
       " 'course': 'python programming'}"
      ]
     },
     "execution_count": 48,
     "metadata": {},
     "output_type": "execute_result"
    }
   ],
   "source": [
    "self_dict"
   ]
  },
  {
   "cell_type": "code",
   "execution_count": null,
   "id": "00fa5a78",
   "metadata": {},
   "outputs": [],
   "source": [
    "new course"
   ]
  }
 ],
 "metadata": {
  "kernelspec": {
   "display_name": "Python 3 (ipykernel)",
   "language": "python",
   "name": "python3"
  },
  "language_info": {
   "codemirror_mode": {
    "name": "ipython",
    "version": 3
   },
   "file_extension": ".py",
   "mimetype": "text/x-python",
   "name": "python",
   "nbconvert_exporter": "python",
   "pygments_lexer": "ipython3",
   "version": "3.11.5"
  }
 },
 "nbformat": 4,
 "nbformat_minor": 5
}
