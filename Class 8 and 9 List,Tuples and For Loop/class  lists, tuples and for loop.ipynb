{
 "cells": [
  {
   "cell_type": "code",
   "execution_count": 1,
   "id": "089e08b7",
   "metadata": {},
   "outputs": [],
   "source": [
    "countries = [\"Atlanta\", \"Baltimore\",  \"Chicago\",  \"Denver\"]"
   ]
  },
  {
   "cell_type": "code",
   "execution_count": 2,
   "id": "2cf55b9b",
   "metadata": {},
   "outputs": [
    {
     "data": {
      "text/plain": [
       "['Atlanta', 'Baltimore', 'Chicago', 'Denver']"
      ]
     },
     "execution_count": 2,
     "metadata": {},
     "output_type": "execute_result"
    }
   ],
   "source": [
    "countries"
   ]
  },
  {
   "cell_type": "markdown",
   "id": "ec89476c",
   "metadata": {},
   "source": [
    "1 Appending values in list"
   ]
  },
  {
   "cell_type": "code",
   "execution_count": 3,
   "id": "3949482c",
   "metadata": {},
   "outputs": [],
   "source": [
    "countries = countries + [ \"Los Angeles\", \"Seattle\" ]"
   ]
  },
  {
   "cell_type": "code",
   "execution_count": 4,
   "id": "675a2ef9",
   "metadata": {},
   "outputs": [
    {
     "data": {
      "text/plain": [
       "['Atlanta', 'Baltimore', 'Chicago', 'Denver', 'Los Angeles', 'Seattle']"
      ]
     },
     "execution_count": 4,
     "metadata": {},
     "output_type": "execute_result"
    }
   ],
   "source": [
    "countries"
   ]
  },
  {
   "cell_type": "code",
   "execution_count": 5,
   "id": "5fa8c693",
   "metadata": {},
   "outputs": [],
   "source": [
    "large_countries_list = countries + [\"new york\"]"
   ]
  },
  {
   "cell_type": "code",
   "execution_count": 6,
   "id": "3ca5d544",
   "metadata": {},
   "outputs": [
    {
     "data": {
      "text/plain": [
       "['Atlanta',\n",
       " 'Baltimore',\n",
       " 'Chicago',\n",
       " 'Denver',\n",
       " 'Los Angeles',\n",
       " 'Seattle',\n",
       " 'new york']"
      ]
     },
     "execution_count": 6,
     "metadata": {},
     "output_type": "execute_result"
    }
   ],
   "source": [
    "large_countries_list"
   ]
  },
  {
   "cell_type": "code",
   "execution_count": 7,
   "id": "5b5bdb16",
   "metadata": {},
   "outputs": [
    {
     "data": {
      "text/plain": [
       "list"
      ]
     },
     "execution_count": 7,
     "metadata": {},
     "output_type": "execute_result"
    }
   ],
   "source": [
    "type(large_countries_list)"
   ]
  },
  {
   "cell_type": "code",
   "execution_count": 8,
   "id": "7ebadee0",
   "metadata": {},
   "outputs": [
    {
     "data": {
      "text/plain": [
       "['Atlanta', 'Baltimore', 'Chicago', 'Denver', 'Los Angeles', 'Seattle']"
      ]
     },
     "execution_count": 8,
     "metadata": {},
     "output_type": "execute_result"
    }
   ],
   "source": [
    "countries"
   ]
  },
  {
   "cell_type": "code",
   "execution_count": 9,
   "id": "f67e70da",
   "metadata": {},
   "outputs": [],
   "source": [
    "countries .append(\"new york\")# for adding"
   ]
  },
  {
   "cell_type": "code",
   "execution_count": 10,
   "id": "1e865d04",
   "metadata": {},
   "outputs": [
    {
     "data": {
      "text/plain": [
       "['Atlanta',\n",
       " 'Baltimore',\n",
       " 'Chicago',\n",
       " 'Denver',\n",
       " 'Los Angeles',\n",
       " 'Seattle',\n",
       " 'new york']"
      ]
     },
     "execution_count": 10,
     "metadata": {},
     "output_type": "execute_result"
    }
   ],
   "source": [
    "countries"
   ]
  },
  {
   "cell_type": "code",
   "execution_count": 11,
   "id": "d520dede",
   "metadata": {},
   "outputs": [],
   "source": [
    "countries.insert(0, \"pakistan\")# for wanted place"
   ]
  },
  {
   "cell_type": "code",
   "execution_count": 12,
   "id": "eeaa3ec9",
   "metadata": {},
   "outputs": [
    {
     "data": {
      "text/plain": [
       "['pakistan',\n",
       " 'Atlanta',\n",
       " 'Baltimore',\n",
       " 'Chicago',\n",
       " 'Denver',\n",
       " 'Los Angeles',\n",
       " 'Seattle',\n",
       " 'new york']"
      ]
     },
     "execution_count": 12,
     "metadata": {},
     "output_type": "execute_result"
    }
   ],
   "source": [
    "countries"
   ]
  },
  {
   "cell_type": "markdown",
   "id": "baaf7297",
   "metadata": {},
   "source": [
    "slicing"
   ]
  },
  {
   "cell_type": "code",
   "execution_count": 13,
   "id": "6ec841ba",
   "metadata": {},
   "outputs": [],
   "source": [
    "slicedlist = countries[1:4]# 1 2 3 4 -> 1(include) 4/last(not include)"
   ]
  },
  {
   "cell_type": "code",
   "execution_count": 14,
   "id": "af40c948",
   "metadata": {},
   "outputs": [
    {
     "data": {
      "text/plain": [
       "['Atlanta', 'Baltimore', 'Chicago']"
      ]
     },
     "execution_count": 14,
     "metadata": {},
     "output_type": "execute_result"
    }
   ],
   "source": [
    "countries[1:4]"
   ]
  },
  {
   "cell_type": "code",
   "execution_count": 15,
   "id": "062ecfc3",
   "metadata": {},
   "outputs": [],
   "source": [
    "slicedlist = countries"
   ]
  },
  {
   "cell_type": "code",
   "execution_count": 16,
   "id": "4a608e1e",
   "metadata": {},
   "outputs": [
    {
     "data": {
      "text/plain": [
       "['pakistan',\n",
       " 'Atlanta',\n",
       " 'Baltimore',\n",
       " 'Chicago',\n",
       " 'Denver',\n",
       " 'Los Angeles',\n",
       " 'Seattle',\n",
       " 'new york']"
      ]
     },
     "execution_count": 16,
     "metadata": {},
     "output_type": "execute_result"
    }
   ],
   "source": [
    "slicedlist"
   ]
  },
  {
   "cell_type": "code",
   "execution_count": 17,
   "id": "c4c3be32",
   "metadata": {},
   "outputs": [],
   "source": [
    "#-1 -2 -3\n",
    "slicedlist = countries[-3:]"
   ]
  },
  {
   "cell_type": "code",
   "execution_count": 18,
   "id": "437e7bf5",
   "metadata": {},
   "outputs": [
    {
     "data": {
      "text/plain": [
       "['Los Angeles', 'Seattle', 'new york']"
      ]
     },
     "execution_count": 18,
     "metadata": {},
     "output_type": "execute_result"
    }
   ],
   "source": [
    "slicedlist"
   ]
  },
  {
   "cell_type": "code",
   "execution_count": 19,
   "id": "4b2dcf00",
   "metadata": {},
   "outputs": [],
   "source": [
    "bio_data = [\"muhammad\", \"muzammil\", 18, 40.5, False, \"1234-12544-5\"]"
   ]
  },
  {
   "cell_type": "code",
   "execution_count": 20,
   "id": "41289c98",
   "metadata": {},
   "outputs": [
    {
     "data": {
      "text/plain": [
       "['muhammad', 'muzammil', 18, 40.5, False, '1234-12544-5']"
      ]
     },
     "execution_count": 20,
     "metadata": {},
     "output_type": "execute_result"
    }
   ],
   "source": [
    "bio_data"
   ]
  },
  {
   "cell_type": "markdown",
   "id": "b5842979",
   "metadata": {},
   "source": [
    "1.2 deleting list"
   ]
  },
  {
   "cell_type": "code",
   "execution_count": 21,
   "id": "557fce3c",
   "metadata": {},
   "outputs": [
    {
     "data": {
      "text/plain": [
       "['muhammad', 'muzammil', 18, 40.5, False, '1234-12544-5']"
      ]
     },
     "execution_count": 21,
     "metadata": {},
     "output_type": "execute_result"
    }
   ],
   "source": [
    "bio_data"
   ]
  },
  {
   "cell_type": "code",
   "execution_count": 22,
   "id": "b4e60e6b",
   "metadata": {},
   "outputs": [],
   "source": [
    "del bio_data[5]"
   ]
  },
  {
   "cell_type": "code",
   "execution_count": 23,
   "id": "a9782d67",
   "metadata": {},
   "outputs": [
    {
     "data": {
      "text/plain": [
       "['muhammad', 'muzammil', 18, 40.5, False]"
      ]
     },
     "execution_count": 23,
     "metadata": {},
     "output_type": "execute_result"
    }
   ],
   "source": [
    "bio_data"
   ]
  },
  {
   "cell_type": "code",
   "execution_count": 24,
   "id": "316eb2d7",
   "metadata": {},
   "outputs": [],
   "source": [
    "bio_data.remove(\"muzammil\")"
   ]
  },
  {
   "cell_type": "code",
   "execution_count": 25,
   "id": "b04f3dec",
   "metadata": {},
   "outputs": [
    {
     "data": {
      "text/plain": [
       "['muhammad', 18, 40.5, False]"
      ]
     },
     "execution_count": 25,
     "metadata": {},
     "output_type": "execute_result"
    }
   ],
   "source": [
    "bio_data"
   ]
  },
  {
   "cell_type": "code",
   "execution_count": 26,
   "id": "f727dd68",
   "metadata": {},
   "outputs": [
    {
     "ename": "ValueError",
     "evalue": "list.remove(x): x not in list",
     "output_type": "error",
     "traceback": [
      "\u001b[1;31m---------------------------------------------------------------------------\u001b[0m",
      "\u001b[1;31mValueError\u001b[0m                                Traceback (most recent call last)",
      "Cell \u001b[1;32mIn[26], line 1\u001b[0m\n\u001b[1;32m----> 1\u001b[0m bio_data\u001b[38;5;241m.\u001b[39mremove(\u001b[38;5;124m\"\u001b[39m\u001b[38;5;124mali\u001b[39m\u001b[38;5;124m\"\u001b[39m)\n",
      "\u001b[1;31mValueError\u001b[0m: list.remove(x): x not in list"
     ]
    }
   ],
   "source": [
    "bio_data.remove(\"ali\")"
   ]
  },
  {
   "cell_type": "markdown",
   "id": "f3b2a6d0",
   "metadata": {},
   "source": [
    "1.2.1 popping elements from list"
   ]
  },
  {
   "cell_type": "code",
   "execution_count": 29,
   "id": "8aead86d",
   "metadata": {},
   "outputs": [],
   "source": [
    "daily_tasks = [\"email Frank\", \"call Sarah\", \"meet withZach\"]"
   ]
  },
  {
   "cell_type": "code",
   "execution_count": 27,
   "id": "75522034",
   "metadata": {},
   "outputs": [],
   "source": [
    "task_completed = []"
   ]
  },
  {
   "cell_type": "code",
   "execution_count": 30,
   "id": "a6a0c8b1",
   "metadata": {},
   "outputs": [
    {
     "data": {
      "text/plain": [
       "'call Sarah'"
      ]
     },
     "execution_count": 30,
     "metadata": {},
     "output_type": "execute_result"
    }
   ],
   "source": [
    "daily_tasks.pop(1) # for deleting specific term"
   ]
  },
  {
   "cell_type": "code",
   "execution_count": 31,
   "id": "e7c31b3a",
   "metadata": {},
   "outputs": [
    {
     "data": {
      "text/plain": [
       "['email Frank', 'meet withZach']"
      ]
     },
     "execution_count": 31,
     "metadata": {},
     "output_type": "execute_result"
    }
   ],
   "source": [
    "daily_tasks"
   ]
  },
  {
   "cell_type": "code",
   "execution_count": 32,
   "id": "fbeaf719",
   "metadata": {},
   "outputs": [],
   "source": [
    "daily_task = [\"qasim\", 654, \"hassan\" ]"
   ]
  },
  {
   "cell_type": "code",
   "execution_count": 33,
   "id": "28b95a1b",
   "metadata": {},
   "outputs": [],
   "source": [
    "completed = []"
   ]
  },
  {
   "cell_type": "code",
   "execution_count": 36,
   "id": "6013386b",
   "metadata": {},
   "outputs": [],
   "source": [
    "completed.insert(0, daily_task.pop())# agar insert ka func istemal kre to specific jagah pr hoga"
   ]
  },
  {
   "cell_type": "code",
   "execution_count": 35,
   "id": "26fbbeba",
   "metadata": {
    "scrolled": false
   },
   "outputs": [
    {
     "data": {
      "text/plain": [
       "['hassan']"
      ]
     },
     "execution_count": 35,
     "metadata": {},
     "output_type": "execute_result"
    }
   ],
   "source": [
    "completed"
   ]
  },
  {
   "cell_type": "code",
   "execution_count": 37,
   "id": "a691fdd3",
   "metadata": {
    "collapsed": true
   },
   "outputs": [
    {
     "data": {
      "text/plain": [
       "['pakistan',\n",
       " 'Atlanta',\n",
       " 'Baltimore',\n",
       " 'Chicago',\n",
       " 'Denver',\n",
       " 'Los Angeles',\n",
       " 'Seattle',\n",
       " 'new york']"
      ]
     },
     "execution_count": 37,
     "metadata": {},
     "output_type": "execute_result"
    }
   ],
   "source": [
    "countries"
   ]
  },
  {
   "cell_type": "markdown",
   "id": "3621b546",
   "metadata": {},
   "source": [
    "1.3 tuple (cant change)"
   ]
  },
  {
   "cell_type": "code",
   "execution_count": 38,
   "id": "2e68012f",
   "metadata": {},
   "outputs": [],
   "source": [
    "tuple_bio = (\"qasim\", 654, \"hassan\") "
   ]
  },
  {
   "cell_type": "code",
   "execution_count": 39,
   "id": "04d14267",
   "metadata": {},
   "outputs": [
    {
     "data": {
      "text/plain": [
       "tuple"
      ]
     },
     "execution_count": 39,
     "metadata": {},
     "output_type": "execute_result"
    }
   ],
   "source": [
    "type(tuple_bio)"
   ]
  },
  {
   "cell_type": "code",
   "execution_count": 40,
   "id": "2c69332f",
   "metadata": {},
   "outputs": [
    {
     "data": {
      "text/plain": [
       "654"
      ]
     },
     "execution_count": 40,
     "metadata": {},
     "output_type": "execute_result"
    }
   ],
   "source": [
    "tuple_bio[1]"
   ]
  },
  {
   "cell_type": "code",
   "execution_count": 41,
   "id": "4f38f7ca",
   "metadata": {},
   "outputs": [
    {
     "data": {
      "text/plain": [
       "1"
      ]
     },
     "execution_count": 41,
     "metadata": {},
     "output_type": "execute_result"
    }
   ],
   "source": [
    "tuple_bio.count(\"qasim\")"
   ]
  },
  {
   "cell_type": "code",
   "execution_count": 42,
   "id": "0b68552d",
   "metadata": {},
   "outputs": [
    {
     "data": {
      "text/plain": [
       "tuple[slice(1, None, None)]"
      ]
     },
     "execution_count": 42,
     "metadata": {},
     "output_type": "execute_result"
    }
   ],
   "source": [
    "tuple[1:]"
   ]
  },
  {
   "cell_type": "code",
   "execution_count": 43,
   "id": "64a1a72e",
   "metadata": {},
   "outputs": [
    {
     "data": {
      "text/plain": [
       "(654, 'hassan')"
      ]
     },
     "execution_count": 43,
     "metadata": {},
     "output_type": "execute_result"
    }
   ],
   "source": [
    "tuple_bio[1:]"
   ]
  },
  {
   "cell_type": "code",
   "execution_count": 44,
   "id": "2e720cd5",
   "metadata": {},
   "outputs": [
    {
     "data": {
      "text/plain": [
       "2"
      ]
     },
     "execution_count": 44,
     "metadata": {},
     "output_type": "execute_result"
    }
   ],
   "source": [
    "tuple_bio.index(\"hassan\")# indux no wise batayega"
   ]
  },
  {
   "cell_type": "markdown",
   "id": "27adeba0",
   "metadata": {},
   "source": [
    "for loops"
   ]
  },
  {
   "cell_type": "code",
   "execution_count": 7,
   "id": "de4024c2",
   "metadata": {},
   "outputs": [],
   "source": [
    "countries = ['Pakistan', 'Turkey', 'Azerbaijan', 'China']"
   ]
  },
  {
   "cell_type": "code",
   "execution_count": 8,
   "id": "e419ab38",
   "metadata": {},
   "outputs": [
    {
     "name": "stdout",
     "output_type": "stream",
     "text": [
      "Pakistan\n",
      "Turkey\n",
      "Azerbaijan\n",
      "China\n"
     ]
    }
   ],
   "source": [
    "for temp in countries:\n",
    "    print(temp)"
   ]
  },
  {
   "cell_type": "code",
   "execution_count": 9,
   "id": "88573b44",
   "metadata": {},
   "outputs": [
    {
     "name": "stdout",
     "output_type": "stream",
     "text": [
      "1600\n",
      "loop cycle end\n",
      "1700\n",
      "loop cycle end\n",
      "1800\n",
      "loop cycle end\n",
      "1900\n",
      "loop cycle end\n",
      "2000\n",
      "loop cycle end\n"
     ]
    }
   ],
   "source": [
    "for temp in [1600 , 1700 , 1800 , 1900 , 2000]:\n",
    "    print(temp)\n",
    "    print(\"loop cycle end\")"
   ]
  },
  {
   "cell_type": "code",
   "execution_count": 14,
   "id": "7f8e6c8e",
   "metadata": {},
   "outputs": [
    {
     "name": "stdout",
     "output_type": "stream",
     "text": [
      "present in the list of countries.\n"
     ]
    }
   ],
   "source": [
    "for temp in countries:\n",
    "    if temp == \"Pakistan\":\n",
    "        print(\"present in the list of countries.\")\n",
    "        break\n",
    "    else:\n",
    "        print(\"Not present in the of countries.\")\n",
    "        break"
   ]
  },
  {
   "cell_type": "code",
   "execution_count": 1,
   "id": "ca95cb45",
   "metadata": {},
   "outputs": [
    {
     "data": {
      "text/plain": [
       "['Pakistan', 'Turkey', 'Azerbaijan', 'China']"
      ]
     },
     "execution_count": 1,
     "metadata": {},
     "output_type": "execute_result"
    }
   ],
   "source": [
    "# left to right\n",
    "#    0           1          2            3\n",
    "['Pakistan', 'Turkey', 'Azerbaijan', 'China']\n",
    "# right to left\n",
    "#    -4         -3           -2        -1"
   ]
  },
  {
   "cell_type": "code",
   "execution_count": 15,
   "id": "b4a7b45f",
   "metadata": {},
   "outputs": [
    {
     "name": "stdout",
     "output_type": "stream",
     "text": [
      "table of 2\n",
      "2 * 1 = 2\n",
      "2 * 2 = 4\n",
      "2 * 3 = 6\n",
      "2 * 4 = 8\n",
      "2 * 5 = 10\n",
      "2 * 6 = 12\n",
      "2 * 7 = 14\n",
      "2 * 8 = 16\n",
      "2 * 9 = 18\n",
      "2 * 10 = 20\n",
      "table of 3\n",
      "3 * 1 = 3\n",
      "3 * 2 = 6\n",
      "3 * 3 = 9\n",
      "3 * 4 = 12\n",
      "3 * 5 = 15\n",
      "3 * 6 = 18\n",
      "3 * 7 = 21\n",
      "3 * 8 = 24\n",
      "3 * 9 = 27\n",
      "3 * 10 = 30\n",
      "table of 4\n",
      "4 * 1 = 4\n",
      "4 * 2 = 8\n",
      "4 * 3 = 12\n",
      "4 * 4 = 16\n",
      "4 * 5 = 20\n",
      "4 * 6 = 24\n",
      "4 * 7 = 28\n",
      "4 * 8 = 32\n",
      "4 * 9 = 36\n",
      "4 * 10 = 40\n",
      "table of 5\n",
      "5 * 1 = 5\n",
      "5 * 2 = 10\n",
      "5 * 3 = 15\n",
      "5 * 4 = 20\n",
      "5 * 5 = 25\n",
      "5 * 6 = 30\n",
      "5 * 7 = 35\n",
      "5 * 8 = 40\n",
      "5 * 9 = 45\n",
      "5 * 10 = 50\n"
     ]
    }
   ],
   "source": [
    "for temp in range(2, 6):\n",
    "    print(f\"table of {temp}\")\n",
    "    for temp_2 in range(1, 11):\n",
    "        print(f\"{temp} * {temp_2} = {temp * temp_2}\")"
   ]
  },
  {
   "cell_type": "code",
   "execution_count": 16,
   "id": "d54fb4e0",
   "metadata": {},
   "outputs": [
    {
     "name": "stdout",
     "output_type": "stream",
     "text": [
      "Want to print Table from: 2\n",
      "Want to print Table till: 7\n",
      "How many time you want to print: 5\n",
      "table of 2\n",
      "2 * 1 = 2\n",
      "2 * 2 = 4\n",
      "2 * 3 = 6\n",
      "2 * 4 = 8\n",
      "2 * 5 = 10\n",
      "table of 3\n",
      "3 * 1 = 3\n",
      "3 * 2 = 6\n",
      "3 * 3 = 9\n",
      "3 * 4 = 12\n",
      "3 * 5 = 15\n",
      "table of 4\n",
      "4 * 1 = 4\n",
      "4 * 2 = 8\n",
      "4 * 3 = 12\n",
      "4 * 4 = 16\n",
      "4 * 5 = 20\n",
      "table of 5\n",
      "5 * 1 = 5\n",
      "5 * 2 = 10\n",
      "5 * 3 = 15\n",
      "5 * 4 = 20\n",
      "5 * 5 = 25\n",
      "table of 6\n",
      "6 * 1 = 6\n",
      "6 * 2 = 12\n",
      "6 * 3 = 18\n",
      "6 * 4 = 24\n",
      "6 * 5 = 30\n"
     ]
    }
   ],
   "source": [
    "table_start = int(input(\"Want to print Table from: \"))\n",
    "table_end = int(input(\"Want to print Table till: \"))\n",
    "table_length = int(input(\"How many time you want to print: \"))\n",
    "\n",
    "for temp in range(table_start, table_end):\n",
    "    print(f\"table of {temp}\")\n",
    "    for temp_2 in range(1, table_length+1):\n",
    "        print(f\"{temp} * {temp_2} = {temp * temp_2}\")"
   ]
  },
  {
   "cell_type": "code",
   "execution_count": 18,
   "id": "f6f0f15e",
   "metadata": {},
   "outputs": [
    {
     "name": "stdout",
     "output_type": "stream",
     "text": [
      "Enter your name: Muhammad Muzammil\n",
      "Enter your Father name: Muhammad Sohail\n",
      "Enter your CNIC number: 123456789\n",
      "In which course you're enrolled: Python Programming\n",
      "**********SAYLANI (SMIT)***********\n",
      "NAME: Muhammad Muzammil\n",
      "FATHER NAME: Muhammad Sohail\n",
      "CNIC: 123456789\n",
      "COURSE: Python Programming\n",
      "************************************\n"
     ]
    }
   ],
   "source": [
    "name = input(\"Enter your name: \")\n",
    "father_name = input(\"Enter your Father name: \")\n",
    "cnic = int(input(\"Enter your CNIC number: \"))\n",
    "course = input(\"In which course you're enrolled: \")\n",
    "\n",
    "print(\"**********SAYLANI (SMIT)***********\")\n",
    "print(f\"NAME: {name}\")\n",
    "print(f\"FATHER NAME: {father_name}\")\n",
    "print(f\"CNIC: {cnic}\")\n",
    "print(f\"COURSE: {course}\")\n",
    "print(\"************************************\")"
   ]
  },
  {
   "cell_type": "code",
   "execution_count": 19,
   "id": "89003313",
   "metadata": {},
   "outputs": [
    {
     "name": "stdout",
     "output_type": "stream",
     "text": [
      "Enter your name: MUHAMMAD MUZAMMIL\n",
      "Enter your Father name: MUHAMMAD SOHAIL\n",
      "Enter your CNIC number: 123456789\n",
      "In which course you're enrolled: 9 to 11\n",
      "**********SAYLANI (SMIT)***********\n",
      "NAME: MUHAMMAD MUZAMMIL MUHAMMAD SOHAIL\n",
      "FATHER NAME: MUHAMMAD SOHAIL\n",
      "CNIC: 123456789\n",
      "COURSE: 9 to 11\n",
      "************************************\n"
     ]
    }
   ],
   "source": [
    "name = input(\"Enter your name: \")\n",
    "father_name = input(\"Enter your Father name: \")\n",
    "cnic = int(input(\"Enter your CNIC number: \"))\n",
    "course = input(\"In which course you're enrolled: \")\n",
    "\n",
    "print(\"**********SAYLANI (SMIT)***********\")\n",
    "print(\"NAME: {0} {1}\".format(name, father_name))\n",
    "print(\"FATHER NAME: {0}\".format(father_name))\n",
    "print(\"CNIC: {0}\".format(cnic))\n",
    "print(\"COURSE: {0}\".format(course))\n",
    "print(\"************************************\")"
   ]
  },
  {
   "cell_type": "code",
   "execution_count": 21,
   "id": "8edbec33",
   "metadata": {},
   "outputs": [
    {
     "name": "stdout",
     "output_type": "stream",
     "text": [
      "Enter your name: MUHAMMAD MUZAMMIL\n",
      "Enter your Father name: MUHAMMAD SOHAIL\n",
      "Enter your CNIC number: 123456789\n",
      "In which course you're enrolled: 9 to 11\n",
      "**********SAYLANI (SMIT)***********\n",
      " NAME : MUHAMMAD MUZAMMIL \n",
      " FATHER NAME : MUHAMMAD SOHAIL \n",
      " ID : 123456789 \n",
      " COURSE : 9 to 11 \n",
      "***********************************\n"
     ]
    }
   ],
   "source": [
    "# single print is used\n",
    "# \\n for next line\n",
    "# \\ for line continue\n",
    "\n",
    "name = input(\"Enter your name: \")\n",
    "father_name = input(\"Enter your Father name: \")\n",
    "cnic = int(input(\"Enter your CNIC number: \"))\n",
    "course = input(\"In which course you're enrolled: \")\n",
    "print(f\"**********SAYLANI (SMIT)***********\\n NAME : {name} \\n FATHER NAME : \\\n",
    "{father_name} \\n ID : {cnic} \\n COURSE : {course} \\\n",
    "\\n***********************************\" )"
   ]
  },
  {
   "cell_type": "code",
   "execution_count": 23,
   "id": "0496151d",
   "metadata": {},
   "outputs": [
    {
     "data": {
      "text/plain": [
       "['MUHAMMAD MUZAMMIL', 'MUHAMMAD SOHAIL', 50, 20]"
      ]
     },
     "execution_count": 23,
     "metadata": {},
     "output_type": "execute_result"
    }
   ],
   "source": [
    "[\"MUHAMMAD MUZAMMIL\", \"MUHAMMAD SOHAIL\", 50, 20]"
   ]
  },
  {
   "cell_type": "code",
   "execution_count": null,
   "id": "cb45cdbe",
   "metadata": {},
   "outputs": [],
   "source": [
    "key --> value\n",
    "name --> MUHAMMAD MUZAMMIL\n",
    "fath_name --> MUHAMMAD SOHAIL\n",
    "weight ---> 50\n",
    "age --> 20"
   ]
  }
 ],
 "metadata": {
  "kernelspec": {
   "display_name": "Python 3 (ipykernel)",
   "language": "python",
   "name": "python3"
  },
  "language_info": {
   "codemirror_mode": {
    "name": "ipython",
    "version": 3
   },
   "file_extension": ".py",
   "mimetype": "text/x-python",
   "name": "python",
   "nbconvert_exporter": "python",
   "pygments_lexer": "ipython3",
   "version": "3.11.5"
  }
 },
 "nbformat": 4,
 "nbformat_minor": 5
}
